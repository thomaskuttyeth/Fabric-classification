{
 "cells": [
  {
   "cell_type": "code",
   "execution_count": 1,
   "id": "0nTIEc4Edsl3",
   "metadata": {
    "colab": {
     "base_uri": "https://localhost:8080/"
    },
    "executionInfo": {
     "elapsed": 637,
     "status": "ok",
     "timestamp": 1630844737258,
     "user": {
      "displayName": "Thomaskutty Reji",
      "photoUrl": "https://lh3.googleusercontent.com/a-/AOh14GjNzCDZzABUhsx_2uFp-DHFV2mM4NUZEPvNxCoLjw=s64",
      "userId": "02143323878923298672"
     },
     "user_tz": -330
    },
    "id": "0nTIEc4Edsl3",
    "outputId": "fc0a32ac-0cb6-488e-f46d-2a331a0bac5f"
   },
   "outputs": [
    {
     "name": "stdout",
     "output_type": "stream",
     "text": [
      "Drive already mounted at /content/drive; to attempt to forcibly remount, call drive.mount(\"/content/drive\", force_remount=True).\n"
     ]
    }
   ],
   "source": [
    "from google.colab import drive\n",
    "drive.mount('/content/drive')"
   ]
  },
  {
   "cell_type": "code",
   "execution_count": 2,
   "id": "-dC2i1ITd91B",
   "metadata": {
    "executionInfo": {
     "elapsed": 2248,
     "status": "ok",
     "timestamp": 1630844739504,
     "user": {
      "displayName": "Thomaskutty Reji",
      "photoUrl": "https://lh3.googleusercontent.com/a-/AOh14GjNzCDZzABUhsx_2uFp-DHFV2mM4NUZEPvNxCoLjw=s64",
      "userId": "02143323878923298672"
     },
     "user_tz": -330
    },
    "id": "-dC2i1ITd91B"
   },
   "outputs": [],
   "source": [
    "import os \n",
    "# changing to project directory \n",
    "os.chdir('/content/drive/MyDrive/research_final')\n"
   ]
  },
  {
   "cell_type": "code",
   "execution_count": 1,
   "id": "18ef9e6b",
   "metadata": {
    "colab": {
     "base_uri": "https://localhost:8080/"
    },
    "executionInfo": {
     "elapsed": 5,
     "status": "ok",
     "timestamp": 1630844739504,
     "user": {
      "displayName": "Thomaskutty Reji",
      "photoUrl": "https://lh3.googleusercontent.com/a-/AOh14GjNzCDZzABUhsx_2uFp-DHFV2mM4NUZEPvNxCoLjw=s64",
      "userId": "02143323878923298672"
     },
     "user_tz": -330
    },
    "id": "18ef9e6b",
    "outputId": "2f3a42c1-740c-4f05-b76a-0ca38f9a3f18"
   },
   "outputs": [
    {
     "name": "stderr",
     "output_type": "stream",
     "text": [
      "INFO:dataloader:Created new dataloader.log file in log directory\n",
      "INFO:dataloader:created ImageDataGenerator instance for train data generator\n",
      "INFO:dataloader:Created ImageDataGenerator instance for test data genrator\n",
      "INFO:dataloader:loading training set\n",
      "INFO:dataloader:loading the testing set\n"
     ]
    },
    {
     "name": "stdout",
     "output_type": "stream",
     "text": [
      "Found 3470 images belonging to 7 classes.\n",
      "Found 609 images belonging to 7 classes.\n"
     ]
    }
   ],
   "source": [
    "from dataloader import Dataloader\n",
    "from model import TLModel\n",
    "main_loader = Dataloader()"
   ]
  },
  {
   "cell_type": "code",
   "execution_count": 2,
   "id": "93b97b84-727a-4bb9-8340-b79d8c472488",
   "metadata": {
    "colab": {
     "base_uri": "https://localhost:8080/"
    },
    "executionInfo": {
     "elapsed": 710,
     "status": "ok",
     "timestamp": 1630844740211,
     "user": {
      "displayName": "Thomaskutty Reji",
      "photoUrl": "https://lh3.googleusercontent.com/a-/AOh14GjNzCDZzABUhsx_2uFp-DHFV2mM4NUZEPvNxCoLjw=s64",
      "userId": "02143323878923298672"
     },
     "user_tz": -330
    },
    "id": "93b97b84-727a-4bb9-8340-b79d8c472488",
    "outputId": "2a33d073-f46f-419e-a852-dbb2d9c7eeb9"
   },
   "outputs": [
    {
     "name": "stderr",
     "output_type": "stream",
     "text": [
      "INFO:dataloader:Test folder is already exists in the Images directory\n"
     ]
    }
   ],
   "source": [
    "main_loader.make_test(0.15)"
   ]
  },
  {
   "cell_type": "code",
   "execution_count": 3,
   "id": "136ca1c6-af2e-4cb3-aa1a-f8e4396bcd47",
   "metadata": {
    "colab": {
     "base_uri": "https://localhost:8080/"
    },
    "executionInfo": {
     "elapsed": 6,
     "status": "ok",
     "timestamp": 1630844740212,
     "user": {
      "displayName": "Thomaskutty Reji",
      "photoUrl": "https://lh3.googleusercontent.com/a-/AOh14GjNzCDZzABUhsx_2uFp-DHFV2mM4NUZEPvNxCoLjw=s64",
      "userId": "02143323878923298672"
     },
     "user_tz": -330
    },
    "id": "136ca1c6-af2e-4cb3-aa1a-f8e4396bcd47",
    "outputId": "3c163f54-3deb-4ebf-b1d2-9e7458a1550a"
   },
   "outputs": [
    {
     "data": {
      "text/plain": [
       "['brocade', 'check', 'chino', 'dotted', 'floral', 'stripped', 'zigzag']"
      ]
     },
     "execution_count": 3,
     "metadata": {},
     "output_type": "execute_result"
    }
   ],
   "source": [
    "categories = main_loader.categories\n",
    "categories"
   ]
  },
  {
   "cell_type": "code",
   "execution_count": 4,
   "id": "HnxxZD7sk9_z",
   "metadata": {
    "colab": {
     "base_uri": "https://localhost:8080/"
    },
    "executionInfo": {
     "elapsed": 5,
     "status": "ok",
     "timestamp": 1630844740212,
     "user": {
      "displayName": "Thomaskutty Reji",
      "photoUrl": "https://lh3.googleusercontent.com/a-/AOh14GjNzCDZzABUhsx_2uFp-DHFV2mM4NUZEPvNxCoLjw=s64",
      "userId": "02143323878923298672"
     },
     "user_tz": -330
    },
    "id": "HnxxZD7sk9_z",
    "outputId": "f2471118-f157-4f12-d314-f0ed10c66be2"
   },
   "outputs": [
    {
     "name": "stderr",
     "output_type": "stream",
     "text": [
      "INFO:dataloader:Getting the counts of each image classes in train and test\n"
     ]
    },
    {
     "data": {
      "text/plain": [
       "({'brocade': 505,\n",
       "  'check': 533,\n",
       "  'chino': 383,\n",
       "  'dotted': 503,\n",
       "  'floral': 694,\n",
       "  'stripped': 358,\n",
       "  'zigzag': 494},\n",
       " {'brocade': 89,\n",
       "  'check': 93,\n",
       "  'chino': 67,\n",
       "  'dotted': 88,\n",
       "  'floral': 122,\n",
       "  'stripped': 63,\n",
       "  'zigzag': 87})"
      ]
     },
     "execution_count": 4,
     "metadata": {},
     "output_type": "execute_result"
    }
   ],
   "source": [
    "main_loader.get_counts()"
   ]
  },
  {
   "cell_type": "code",
   "execution_count": 5,
   "id": "vhmBGeIb0ZkN",
   "metadata": {
    "executionInfo": {
     "elapsed": 3,
     "status": "ok",
     "timestamp": 1630844740212,
     "user": {
      "displayName": "Thomaskutty Reji",
      "photoUrl": "https://lh3.googleusercontent.com/a-/AOh14GjNzCDZzABUhsx_2uFp-DHFV2mM4NUZEPvNxCoLjw=s64",
      "userId": "02143323878923298672"
     },
     "user_tz": -330
    },
    "id": "vhmBGeIb0ZkN"
   },
   "outputs": [
    {
     "name": "stderr",
     "output_type": "stream",
     "text": [
      "WARNING:model:Creating model.log file in log directory\n"
     ]
    }
   ],
   "source": [
    "model = TLModel(224)"
   ]
  },
  {
   "cell_type": "code",
   "execution_count": 6,
   "id": "i4fKg5Ja3lyx",
   "metadata": {
    "colab": {
     "base_uri": "https://localhost:8080/"
    },
    "executionInfo": {
     "elapsed": 587,
     "status": "ok",
     "timestamp": 1630844740796,
     "user": {
      "displayName": "Thomaskutty Reji",
      "photoUrl": "https://lh3.googleusercontent.com/a-/AOh14GjNzCDZzABUhsx_2uFp-DHFV2mM4NUZEPvNxCoLjw=s64",
      "userId": "02143323878923298672"
     },
     "user_tz": -330
    },
    "id": "i4fKg5Ja3lyx",
    "outputId": "2556ede7-1e38-4e7c-a795-e573502beff4"
   },
   "outputs": [
    {
     "name": "stderr",
     "output_type": "stream",
     "text": [
      "WARNING:model:Building the model\n"
     ]
    },
    {
     "name": "stdout",
     "output_type": "stream",
     "text": [
      "Model: \"model\"\n",
      "_________________________________________________________________\n",
      "Layer (type)                 Output Shape              Param #   \n",
      "=================================================================\n",
      "input_1 (InputLayer)         [(None, 224, 224, 3)]     0         \n",
      "_________________________________________________________________\n",
      "block1_conv1 (Conv2D)        (None, 224, 224, 64)      1792      \n",
      "_________________________________________________________________\n",
      "block1_conv2 (Conv2D)        (None, 224, 224, 64)      36928     \n",
      "_________________________________________________________________\n",
      "block1_pool (MaxPooling2D)   (None, 112, 112, 64)      0         \n",
      "_________________________________________________________________\n",
      "block2_conv1 (Conv2D)        (None, 112, 112, 128)     73856     \n",
      "_________________________________________________________________\n",
      "block2_conv2 (Conv2D)        (None, 112, 112, 128)     147584    \n",
      "_________________________________________________________________\n",
      "block2_pool (MaxPooling2D)   (None, 56, 56, 128)       0         \n",
      "_________________________________________________________________\n",
      "block3_conv1 (Conv2D)        (None, 56, 56, 256)       295168    \n",
      "_________________________________________________________________\n",
      "block3_conv2 (Conv2D)        (None, 56, 56, 256)       590080    \n",
      "_________________________________________________________________\n",
      "block3_conv3 (Conv2D)        (None, 56, 56, 256)       590080    \n",
      "_________________________________________________________________\n",
      "block3_pool (MaxPooling2D)   (None, 28, 28, 256)       0         \n",
      "_________________________________________________________________\n",
      "block4_conv1 (Conv2D)        (None, 28, 28, 512)       1180160   \n",
      "_________________________________________________________________\n",
      "block4_conv2 (Conv2D)        (None, 28, 28, 512)       2359808   \n",
      "_________________________________________________________________\n",
      "block4_conv3 (Conv2D)        (None, 28, 28, 512)       2359808   \n",
      "_________________________________________________________________\n",
      "block4_pool (MaxPooling2D)   (None, 14, 14, 512)       0         \n",
      "_________________________________________________________________\n",
      "block5_conv1 (Conv2D)        (None, 14, 14, 512)       2359808   \n",
      "_________________________________________________________________\n",
      "block5_conv2 (Conv2D)        (None, 14, 14, 512)       2359808   \n",
      "_________________________________________________________________\n",
      "block5_conv3 (Conv2D)        (None, 14, 14, 512)       2359808   \n",
      "_________________________________________________________________\n",
      "block5_pool (MaxPooling2D)   (None, 7, 7, 512)         0         \n",
      "_________________________________________________________________\n",
      "flatten (Flatten)            (None, 25088)             0         \n",
      "_________________________________________________________________\n",
      "dense (Dense)                (None, 7)                 175623    \n",
      "=================================================================\n",
      "Total params: 14,890,311\n",
      "Trainable params: 175,623\n",
      "Non-trainable params: 14,714,688\n",
      "_________________________________________________________________\n"
     ]
    }
   ],
   "source": [
    "model.build(categories)\n",
    "model.summary()"
   ]
  },
  {
   "cell_type": "code",
   "execution_count": 7,
   "id": "BoXThBgL3nmu",
   "metadata": {
    "colab": {
     "base_uri": "https://localhost:8080/"
    },
    "executionInfo": {
     "elapsed": 10,
     "status": "ok",
     "timestamp": 1630844740797,
     "user": {
      "displayName": "Thomaskutty Reji",
      "photoUrl": "https://lh3.googleusercontent.com/a-/AOh14GjNzCDZzABUhsx_2uFp-DHFV2mM4NUZEPvNxCoLjw=s64",
      "userId": "02143323878923298672"
     },
     "user_tz": -330
    },
    "id": "BoXThBgL3nmu",
    "outputId": "5e326ad1-1947-4688-8705-d86963b45db3"
   },
   "outputs": [
    {
     "name": "stderr",
     "output_type": "stream",
     "text": [
      "WARNING:model:Compiling Model\n"
     ]
    }
   ],
   "source": [
    "model.compile(\n",
    "    loss = 'categorical_crossentropy',\n",
    "    optimizer = 'adam',\n",
    "    metrics = ['accuracy']\n",
    ")"
   ]
  },
  {
   "cell_type": "code",
   "execution_count": 10,
   "id": "PBNkXshH6CUP",
   "metadata": {
    "colab": {
     "base_uri": "https://localhost:8080/"
    },
    "executionInfo": {
     "elapsed": 2568275,
     "status": "ok",
     "timestamp": 1630847327551,
     "user": {
      "displayName": "Thomaskutty Reji",
      "photoUrl": "https://lh3.googleusercontent.com/a-/AOh14GjNzCDZzABUhsx_2uFp-DHFV2mM4NUZEPvNxCoLjw=s64",
      "userId": "02143323878923298672"
     },
     "user_tz": -330
    },
    "id": "PBNkXshH6CUP",
    "outputId": "f1e8d1dc-9dd2-47e0-8d40-07e703b787b1"
   },
   "outputs": [
    {
     "name": "stderr",
     "output_type": "stream",
     "text": [
      "C:\\Users\\ASUS\\AppData\\Roaming\\Python\\Python38\\site-packages\\keras\\engine\\training.py:1972: UserWarning: `Model.fit_generator` is deprecated and will be removed in a future version. Please use `Model.fit`, which supports generators.\n",
      "  warnings.warn('`Model.fit_generator` is deprecated and '\n"
     ]
    },
    {
     "name": "stdout",
     "output_type": "stream",
     "text": [
      "217/217 [==============================] - 881s 4s/step - loss: 0.9322 - accuracy: 0.7153 - val_loss: 0.6861 - val_accuracy: 0.7931\n"
     ]
    }
   ],
   "source": [
    "train_data = main_loader.training_set \n",
    "test_data = main_loader.test_set \n",
    "history = model.fit_generator(1,train_data, test_data)"
   ]
  },
  {
   "cell_type": "code",
   "execution_count": 8,
   "id": "IKBd4TRJ6IWE",
   "metadata": {
    "executionInfo": {
     "elapsed": 5,
     "status": "aborted",
     "timestamp": 1630844740798,
     "user": {
      "displayName": "Thomaskutty Reji",
      "photoUrl": "https://lh3.googleusercontent.com/a-/AOh14GjNzCDZzABUhsx_2uFp-DHFV2mM4NUZEPvNxCoLjw=s64",
      "userId": "02143323878923298672"
     },
     "user_tz": -330
    },
    "id": "IKBd4TRJ6IWE"
   },
   "outputs": [],
   "source": [
    "# For epoch 30 - training accuracy = 0.9487 and testing accuracy = 0.8107"
   ]
  },
  {
   "cell_type": "code",
   "execution_count": null,
   "id": "0527041f-f30c-4b8d-bbc6-a179887bab82",
   "metadata": {},
   "outputs": [],
   "source": []
  }
 ],
 "metadata": {
  "accelerator": "GPU",
  "colab": {
   "collapsed_sections": [],
   "name": "main.ipynb",
   "provenance": []
  },
  "interpreter": {
   "hash": "380030d1298d5a27518acca789ff38fe82bbf2e68b73263de6a6bf23efb7704c"
  },
  "kernelspec": {
   "display_name": "Python 3",
   "language": "python",
   "name": "python3"
  },
  "language_info": {
   "codemirror_mode": {
    "name": "ipython",
    "version": 3
   },
   "file_extension": ".py",
   "mimetype": "text/x-python",
   "name": "python",
   "nbconvert_exporter": "python",
   "pygments_lexer": "ipython3",
   "version": "3.8.8"
  }
 },
 "nbformat": 4,
 "nbformat_minor": 5
}

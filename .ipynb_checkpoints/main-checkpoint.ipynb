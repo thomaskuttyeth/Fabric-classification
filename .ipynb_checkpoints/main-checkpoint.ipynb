{
 "cells": [
  {
   "cell_type": "markdown",
   "id": "-ylVleUeS5QH",
   "metadata": {
    "id": "-ylVleUeS5QH"
   },
   "source": [
    "# ***Fabric Pattern classification using Transfer Learning***\n",
    "Dataset for this research work is scrapped from internet using python beautiful soup library. It has a total of more than 4000 images, covering seven categories of fabric designs. It is further divided into test and train using sklearn preprocessing library. For each image, ten more samples were generated using data augmentation technique by using Keras data generator.\n",
    "<img src = \"https://camo.githubusercontent.com/f11c6ed3e9dae95b3d856c71077347d6ffc9477b9c5de9faf54503bc9597bcd2/68747470733a2f2f692e70696e696d672e636f6d2f353634782f36612f39632f64622f36613963646234346361316131303264376463663664356632316432343366302e6a7067\">\n",
    "\n",
    "The major preprocessing steps consist of image resizing and standardization. With the constrain of input image size, it is mandatory to adjust the input image size to uniform size. Pillow and OpenCV libraries are used to load and preprocess the images. For making the convergence faster while training the network, images were standardized by dividing each pixel values by 255.\n",
    "\n",
    "Dataset link: https://drive.google.com/drive/folders/1p-ZeZaP3C8t2NIfdk7gpJYrd9czULufZ?usp=sharing\n",
    "\n",
    "    Contents\n",
    "        Section1 : Preparing the data \n",
    "            1. Mounting the directory \n",
    "            2. Loading the modules \n",
    "            3. Verifying the data counts and categories \n",
    "            4. Getting the train and test data set\n",
    "        Section2: Modelling \n",
    "            1. VGG 16\n",
    "            2. VGG 19\n",
    "            3. ResNet 50 \n",
    "            4. VGG19+SVM \n",
    "        Conclusions\n",
    "\n",
    "Entire Source Codes: https://github.com/thomasreji155/Fabric-classification"
   ]
  },
  {
   "cell_type": "markdown",
   "id": "v38X-1-oxfDG",
   "metadata": {
    "id": "v38X-1-oxfDG"
   },
   "source": [
    "## **Preparing the data**"
   ]
  },
  {
   "cell_type": "markdown",
   "id": "6hTauD8SSX3g",
   "metadata": {
    "id": "6hTauD8SSX3g"
   },
   "source": [
    "### Mounting the directory"
   ]
  },
  {
   "cell_type": "code",
   "execution_count": 5,
   "id": "0nTIEc4Edsl3",
   "metadata": {
    "colab": {
     "base_uri": "https://localhost:8080/"
    },
    "executionInfo": {
     "elapsed": 877,
     "status": "ok",
     "timestamp": 1635058604313,
     "user": {
      "displayName": "THOMASKUTTY REJI 20122011",
      "photoUrl": "https://lh3.googleusercontent.com/a-/AOh14GjHoJ9wh0wfyxXOdLGziUSTBqhWk7QGa2FLl8mM=s64",
      "userId": "10621011967258360673"
     },
     "user_tz": -330
    },
    "id": "0nTIEc4Edsl3",
    "outputId": "dd58c51c-3c9c-42e4-e5a7-5214ee2e1342"
   },
   "outputs": [
    {
     "name": "stdout",
     "output_type": "stream",
     "text": [
      "Drive already mounted at /content/drive; to attempt to forcibly remount, call drive.mount(\"/content/drive\", force_remount=True).\n"
     ]
    }
   ],
   "source": [
    "from google.colab import drive\n",
    "drive.mount('/content/drive')"
   ]
  },
  {
   "cell_type": "code",
   "execution_count": 6,
   "id": "-dC2i1ITd91B",
   "metadata": {
    "executionInfo": {
     "elapsed": 4,
     "status": "ok",
     "timestamp": 1635058607483,
     "user": {
      "displayName": "THOMASKUTTY REJI 20122011",
      "photoUrl": "https://lh3.googleusercontent.com/a-/AOh14GjHoJ9wh0wfyxXOdLGziUSTBqhWk7QGa2FLl8mM=s64",
      "userId": "10621011967258360673"
     },
     "user_tz": -330
    },
    "id": "-dC2i1ITd91B"
   },
   "outputs": [],
   "source": [
    "import os \n",
    "os.chdir('/content/drive/MyDrive/research_final')\n",
    "import time \n",
    "import pandas as pd \n",
    "import tensorflow\n",
    "from Models import vgg_variant\n",
    "from Models import svm_hybrid\n",
    "from keras.applications.vgg16 import VGG16\n",
    "from tensorflow.keras.applications.vgg19 import VGG19\n",
    "from tensorflow.keras.applications.resnet50 import ResNet50\n",
    "# changing to project directory \n",
    "from dataloader import Dataloader"
   ]
  },
  {
   "cell_type": "markdown",
   "id": "j3VXwQQMSe7_",
   "metadata": {
    "id": "j3VXwQQMSe7_"
   },
   "source": [
    "### Loading the modules "
   ]
  },
  {
   "cell_type": "code",
   "execution_count": 7,
   "id": "18ef9e6b",
   "metadata": {
    "colab": {
     "base_uri": "https://localhost:8080/"
    },
    "executionInfo": {
     "elapsed": 2913,
     "status": "ok",
     "timestamp": 1635058613851,
     "user": {
      "displayName": "THOMASKUTTY REJI 20122011",
      "photoUrl": "https://lh3.googleusercontent.com/a-/AOh14GjHoJ9wh0wfyxXOdLGziUSTBqhWk7QGa2FLl8mM=s64",
      "userId": "10621011967258360673"
     },
     "user_tz": -330
    },
    "id": "18ef9e6b",
    "outputId": "5a05425f-04be-4662-eac6-0c4add37efde"
   },
   "outputs": [
    {
     "name": "stderr",
     "output_type": "stream",
     "text": [
      "INFO:dataloader:Created new dataloader.log file in log directory\n",
      "INFO:dataloader:Created new dataloader.log file in log directory\n",
      "INFO:dataloader:Created new dataloader.log file in log directory\n",
      "INFO:dataloader:created ImageDataGenerator instance for train data generator\n",
      "INFO:dataloader:created ImageDataGenerator instance for train data generator\n",
      "INFO:dataloader:created ImageDataGenerator instance for train data generator\n",
      "INFO:dataloader:Created ImageDataGenerator instance for test data generator\n",
      "INFO:dataloader:Created ImageDataGenerator instance for test data generator\n",
      "INFO:dataloader:Created ImageDataGenerator instance for test data generator\n",
      "INFO:dataloader:loading training set\n",
      "INFO:dataloader:loading training set\n",
      "INFO:dataloader:loading training set\n"
     ]
    },
    {
     "name": "stdout",
     "output_type": "stream",
     "text": [
      "Found 3416 images belonging to 7 classes.\n"
     ]
    },
    {
     "name": "stderr",
     "output_type": "stream",
     "text": [
      "INFO:dataloader:loading the testing set\n",
      "INFO:dataloader:loading the testing set\n",
      "INFO:dataloader:loading the testing set\n"
     ]
    },
    {
     "name": "stdout",
     "output_type": "stream",
     "text": [
      "Found 570 images belonging to 7 classes.\n"
     ]
    }
   ],
   "source": [
    "loader = Dataloader()"
   ]
  },
  {
   "cell_type": "markdown",
   "id": "U0YnAAGrSR9F",
   "metadata": {
    "id": "U0YnAAGrSR9F"
   },
   "source": [
    "### Data counts and categories"
   ]
  },
  {
   "cell_type": "code",
   "execution_count": 8,
   "id": "136ca1c6-af2e-4cb3-aa1a-f8e4396bcd47",
   "metadata": {
    "colab": {
     "base_uri": "https://localhost:8080/"
    },
    "executionInfo": {
     "elapsed": 644,
     "status": "ok",
     "timestamp": 1635058627979,
     "user": {
      "displayName": "THOMASKUTTY REJI 20122011",
      "photoUrl": "https://lh3.googleusercontent.com/a-/AOh14GjHoJ9wh0wfyxXOdLGziUSTBqhWk7QGa2FLl8mM=s64",
      "userId": "10621011967258360673"
     },
     "user_tz": -330
    },
    "id": "136ca1c6-af2e-4cb3-aa1a-f8e4396bcd47",
    "outputId": "ca407726-3dae-49ea-bbfc-f71b1e7fef61"
   },
   "outputs": [
    {
     "name": "stderr",
     "output_type": "stream",
     "text": [
      "INFO:dataloader:Getting the counts of each image classes in train and test\n",
      "INFO:dataloader:Getting the counts of each image classes in train and test\n",
      "INFO:dataloader:Getting the counts of each image classes in train and test\n"
     ]
    },
    {
     "name": "stdout",
     "output_type": "stream",
     "text": [
      "({'stripped': 358, 'dotted': 503, 'floral': 696, 'zigzag': 494, 'chino': 383, 'brocade': 449, 'check': 533}, {'floral': 122, 'zigzag': 86, 'stripped': 57, 'chino': 60, 'check': 91, 'brocade': 73, 'dotted': 81})\n"
     ]
    }
   ],
   "source": [
    "categories = loader.categories\n",
    "print(loader.get_counts())"
   ]
  },
  {
   "cell_type": "markdown",
   "id": "21hgEjNNuJGt",
   "metadata": {
    "id": "21hgEjNNuJGt"
   },
   "source": [
    "### Getting the train and test data"
   ]
  },
  {
   "cell_type": "code",
   "execution_count": 9,
   "id": "cxJPiqdr9ENH",
   "metadata": {
    "executionInfo": {
     "elapsed": 878,
     "status": "ok",
     "timestamp": 1635058633740,
     "user": {
      "displayName": "THOMASKUTTY REJI 20122011",
      "photoUrl": "https://lh3.googleusercontent.com/a-/AOh14GjHoJ9wh0wfyxXOdLGziUSTBqhWk7QGa2FLl8mM=s64",
      "userId": "10621011967258360673"
     },
     "user_tz": -330
    },
    "id": "cxJPiqdr9ENH"
   },
   "outputs": [],
   "source": [
    "train_data = loader.training_set \n",
    "test_data = loader.test_set"
   ]
  },
  {
   "cell_type": "markdown",
   "id": "CR2oYyQ_SOlD",
   "metadata": {
    "id": "CR2oYyQ_SOlD"
   },
   "source": [
    "## **Modelling Section**"
   ]
  },
  {
   "cell_type": "markdown",
   "id": "6bBlg0rER6E3",
   "metadata": {
    "id": "6bBlg0rER6E3"
   },
   "source": [
    "### VGG16 Model\n",
    "\n",
    "\n",
    "\n"
   ]
  },
  {
   "cell_type": "code",
   "execution_count": null,
   "id": "vhmBGeIb0ZkN",
   "metadata": {
    "colab": {
     "base_uri": "https://localhost:8080/"
    },
    "executionInfo": {
     "elapsed": 2603426,
     "status": "ok",
     "timestamp": 1635002646693,
     "user": {
      "displayName": "Ipshita Ghosh",
      "photoUrl": "https://lh3.googleusercontent.com/a/default-user=s64",
      "userId": "15739552192473194332"
     },
     "user_tz": -330
    },
    "id": "vhmBGeIb0ZkN",
    "outputId": "8c2cc42a-f56c-4447-9b00-730c99ea578f",
    "scrolled": false
   },
   "outputs": [
    {
     "name": "stderr",
     "output_type": "stream",
     "text": [
      "WARNING:Models.vgg_variant:Creating model.log file in log directory\n",
      "WARNING:Models.vgg_variant:Creating model.log file in log directory\n"
     ]
    },
    {
     "name": "stdout",
     "output_type": "stream",
     "text": [
      "Downloading data from https://storage.googleapis.com/tensorflow/keras-applications/vgg16/vgg16_weights_tf_dim_ordering_tf_kernels_notop.h5\n",
      "58892288/58889256 [==============================] - 1s 0us/step\n",
      "58900480/58889256 [==============================] - 1s 0us/step\n"
     ]
    },
    {
     "name": "stderr",
     "output_type": "stream",
     "text": [
      "WARNING:Models.vgg_variant:Building the model\n",
      "WARNING:Models.vgg_variant:Building the model\n",
      "WARNING:Models.vgg_variant:Compiling Model\n",
      "WARNING:Models.vgg_variant:Compiling Model\n",
      "/usr/local/lib/python3.7/dist-packages/keras/engine/training.py:1972: UserWarning: `Model.fit_generator` is deprecated and will be removed in a future version. Please use `Model.fit`, which supports generators.\n",
      "  warnings.warn('`Model.fit_generator` is deprecated and '\n"
     ]
    },
    {
     "name": "stdout",
     "output_type": "stream",
     "text": [
      "Epoch 1/30\n",
      "214/214 [==============================] - 789s 4s/step - loss: 1.0895 - accuracy: 0.6265 - recall_m: 0.4690 - precision_m: 0.7565 - f1_m: 0.5672 - val_loss: 0.6440 - val_accuracy: 0.7825 - val_recall_m: 0.6962 - val_precision_m: 0.8544 - val_f1_m: 0.7640\n",
      "Epoch 2/30\n",
      "214/214 [==============================] - 61s 283ms/step - loss: 0.7625 - accuracy: 0.7453 - recall_m: 0.6732 - precision_m: 0.8155 - f1_m: 0.7346 - val_loss: 0.5721 - val_accuracy: 0.8070 - val_recall_m: 0.7559 - val_precision_m: 0.8808 - val_f1_m: 0.8115\n",
      "Epoch 3/30\n",
      "214/214 [==============================] - 62s 289ms/step - loss: 0.6810 - accuracy: 0.7725 - recall_m: 0.7088 - precision_m: 0.8283 - f1_m: 0.7623 - val_loss: 0.5480 - val_accuracy: 0.8105 - val_recall_m: 0.7729 - val_precision_m: 0.8573 - val_f1_m: 0.8120\n",
      "Epoch 4/30\n",
      "214/214 [==============================] - 62s 289ms/step - loss: 0.6473 - accuracy: 0.7799 - recall_m: 0.7252 - precision_m: 0.8403 - f1_m: 0.7768 - val_loss: 0.6105 - val_accuracy: 0.7947 - val_recall_m: 0.7573 - val_precision_m: 0.8276 - val_f1_m: 0.7899\n",
      "Epoch 5/30\n",
      "214/214 [==============================] - 61s 282ms/step - loss: 0.5770 - accuracy: 0.8100 - recall_m: 0.7611 - precision_m: 0.8601 - f1_m: 0.8059 - val_loss: 0.5588 - val_accuracy: 0.8053 - val_recall_m: 0.7660 - val_precision_m: 0.8505 - val_f1_m: 0.8044\n",
      "Epoch 6/30\n",
      "214/214 [==============================] - 61s 285ms/step - loss: 0.5538 - accuracy: 0.8211 - recall_m: 0.7807 - precision_m: 0.8667 - f1_m: 0.8201 - val_loss: 0.5687 - val_accuracy: 0.8211 - val_recall_m: 0.7774 - val_precision_m: 0.8485 - val_f1_m: 0.8102\n",
      "Epoch 7/30\n",
      "214/214 [==============================] - 61s 283ms/step - loss: 0.5354 - accuracy: 0.8206 - recall_m: 0.7798 - precision_m: 0.8660 - f1_m: 0.8192 - val_loss: 0.6000 - val_accuracy: 0.8105 - val_recall_m: 0.7826 - val_precision_m: 0.8346 - val_f1_m: 0.8070\n",
      "Epoch 8/30\n",
      "214/214 [==============================] - 62s 288ms/step - loss: 0.4920 - accuracy: 0.8343 - recall_m: 0.7991 - precision_m: 0.8733 - f1_m: 0.8333 - val_loss: 0.6358 - val_accuracy: 0.7825 - val_recall_m: 0.7479 - val_precision_m: 0.8210 - val_f1_m: 0.7813\n",
      "Epoch 9/30\n",
      "214/214 [==============================] - 61s 285ms/step - loss: 0.4733 - accuracy: 0.8405 - recall_m: 0.8034 - precision_m: 0.8732 - f1_m: 0.8359 - val_loss: 0.4809 - val_accuracy: 0.8351 - val_recall_m: 0.8205 - val_precision_m: 0.8671 - val_f1_m: 0.8427\n",
      "Epoch 10/30\n",
      "214/214 [==============================] - 60s 281ms/step - loss: 0.4443 - accuracy: 0.8530 - recall_m: 0.8210 - precision_m: 0.8886 - f1_m: 0.8523 - val_loss: 0.5475 - val_accuracy: 0.8193 - val_recall_m: 0.7951 - val_precision_m: 0.8449 - val_f1_m: 0.8186\n",
      "Epoch 11/30\n",
      "214/214 [==============================] - 60s 281ms/step - loss: 0.4505 - accuracy: 0.8478 - recall_m: 0.8195 - precision_m: 0.8827 - f1_m: 0.8488 - val_loss: 0.5063 - val_accuracy: 0.8246 - val_recall_m: 0.8021 - val_precision_m: 0.8693 - val_f1_m: 0.8327\n",
      "Epoch 12/30\n",
      "214/214 [==============================] - 60s 278ms/step - loss: 0.4132 - accuracy: 0.8577 - recall_m: 0.8329 - precision_m: 0.8878 - f1_m: 0.8586 - val_loss: 0.5520 - val_accuracy: 0.8298 - val_recall_m: 0.7979 - val_precision_m: 0.8695 - val_f1_m: 0.8314\n",
      "Epoch 13/30\n",
      "214/214 [==============================] - 59s 277ms/step - loss: 0.4168 - accuracy: 0.8662 - recall_m: 0.8379 - precision_m: 0.8939 - f1_m: 0.8642 - val_loss: 0.4597 - val_accuracy: 0.8596 - val_recall_m: 0.8181 - val_precision_m: 0.8825 - val_f1_m: 0.8480\n",
      "Epoch 14/30\n",
      "214/214 [==============================] - 60s 279ms/step - loss: 0.4004 - accuracy: 0.8659 - recall_m: 0.8440 - precision_m: 0.8945 - f1_m: 0.8678 - val_loss: 0.5920 - val_accuracy: 0.8158 - val_recall_m: 0.7972 - val_precision_m: 0.8364 - val_f1_m: 0.8157\n",
      "Epoch 15/30\n",
      "214/214 [==============================] - 60s 281ms/step - loss: 0.3723 - accuracy: 0.8724 - recall_m: 0.8475 - precision_m: 0.8991 - f1_m: 0.8717 - val_loss: 0.5250 - val_accuracy: 0.8439 - val_recall_m: 0.8149 - val_precision_m: 0.8684 - val_f1_m: 0.8398\n",
      "Epoch 16/30\n",
      "214/214 [==============================] - 60s 279ms/step - loss: 0.3600 - accuracy: 0.8756 - recall_m: 0.8525 - precision_m: 0.9020 - f1_m: 0.8757 - val_loss: 0.5450 - val_accuracy: 0.8333 - val_recall_m: 0.8115 - val_precision_m: 0.8597 - val_f1_m: 0.8344\n",
      "Epoch 17/30\n",
      "214/214 [==============================] - 60s 282ms/step - loss: 0.3546 - accuracy: 0.8791 - recall_m: 0.8528 - precision_m: 0.9026 - f1_m: 0.8762 - val_loss: 0.5977 - val_accuracy: 0.8053 - val_recall_m: 0.7955 - val_precision_m: 0.8411 - val_f1_m: 0.8163\n",
      "Epoch 18/30\n",
      "214/214 [==============================] - 60s 281ms/step - loss: 0.3520 - accuracy: 0.8832 - recall_m: 0.8642 - precision_m: 0.9071 - f1_m: 0.8844 - val_loss: 0.5940 - val_accuracy: 0.8158 - val_recall_m: 0.8003 - val_precision_m: 0.8430 - val_f1_m: 0.8205\n",
      "Epoch 19/30\n",
      "214/214 [==============================] - 60s 281ms/step - loss: 0.3345 - accuracy: 0.8911 - recall_m: 0.8695 - precision_m: 0.9102 - f1_m: 0.8887 - val_loss: 0.4879 - val_accuracy: 0.8491 - val_recall_m: 0.8181 - val_precision_m: 0.8741 - val_f1_m: 0.8442\n",
      "Epoch 20/30\n",
      "214/214 [==============================] - 61s 284ms/step - loss: 0.3147 - accuracy: 0.8981 - recall_m: 0.8794 - precision_m: 0.9221 - f1_m: 0.8996 - val_loss: 0.4950 - val_accuracy: 0.8526 - val_recall_m: 0.8285 - val_precision_m: 0.8819 - val_f1_m: 0.8534\n",
      "Epoch 21/30\n",
      "214/214 [==============================] - 60s 281ms/step - loss: 0.3104 - accuracy: 0.8952 - recall_m: 0.8800 - precision_m: 0.9166 - f1_m: 0.8973 - val_loss: 0.5679 - val_accuracy: 0.8281 - val_recall_m: 0.8066 - val_precision_m: 0.8490 - val_f1_m: 0.8267\n",
      "Epoch 22/30\n",
      "214/214 [==============================] - 61s 284ms/step - loss: 0.2988 - accuracy: 0.8931 - recall_m: 0.8762 - precision_m: 0.9138 - f1_m: 0.8941 - val_loss: 0.6827 - val_accuracy: 0.8053 - val_recall_m: 0.7896 - val_precision_m: 0.8219 - val_f1_m: 0.8048\n",
      "Epoch 23/30\n",
      "214/214 [==============================] - 63s 293ms/step - loss: 0.2662 - accuracy: 0.9057 - recall_m: 0.8943 - precision_m: 0.9235 - f1_m: 0.9082 - val_loss: 0.5247 - val_accuracy: 0.8491 - val_recall_m: 0.8312 - val_precision_m: 0.8637 - val_f1_m: 0.8466\n",
      "Epoch 24/30\n",
      "214/214 [==============================] - 62s 288ms/step - loss: 0.2947 - accuracy: 0.9002 - recall_m: 0.8861 - precision_m: 0.9186 - f1_m: 0.9016 - val_loss: 0.5605 - val_accuracy: 0.8474 - val_recall_m: 0.8323 - val_precision_m: 0.8737 - val_f1_m: 0.8518\n",
      "Epoch 25/30\n",
      "214/214 [==============================] - 61s 284ms/step - loss: 0.2931 - accuracy: 0.9060 - recall_m: 0.8899 - precision_m: 0.9202 - f1_m: 0.9043 - val_loss: 0.5509 - val_accuracy: 0.8404 - val_recall_m: 0.8122 - val_precision_m: 0.8564 - val_f1_m: 0.8329\n",
      "Epoch 26/30\n",
      "214/214 [==============================] - 61s 285ms/step - loss: 0.2828 - accuracy: 0.8993 - recall_m: 0.8855 - precision_m: 0.9176 - f1_m: 0.9008 - val_loss: 0.5925 - val_accuracy: 0.8421 - val_recall_m: 0.8198 - val_precision_m: 0.8499 - val_f1_m: 0.8341\n",
      "Epoch 27/30\n",
      "214/214 [==============================] - 61s 285ms/step - loss: 0.2649 - accuracy: 0.9113 - recall_m: 0.8984 - precision_m: 0.9275 - f1_m: 0.9122 - val_loss: 0.5580 - val_accuracy: 0.8281 - val_recall_m: 0.8229 - val_precision_m: 0.8488 - val_f1_m: 0.8353\n",
      "Epoch 28/30\n",
      "214/214 [==============================] - 61s 285ms/step - loss: 0.2810 - accuracy: 0.9054 - recall_m: 0.8911 - precision_m: 0.9187 - f1_m: 0.9043 - val_loss: 0.5304 - val_accuracy: 0.8474 - val_recall_m: 0.8285 - val_precision_m: 0.8646 - val_f1_m: 0.8457\n",
      "Epoch 29/30\n",
      "214/214 [==============================] - 62s 287ms/step - loss: 0.2459 - accuracy: 0.9180 - recall_m: 0.9060 - precision_m: 0.9317 - f1_m: 0.9183 - val_loss: 0.6186 - val_accuracy: 0.8333 - val_recall_m: 0.8198 - val_precision_m: 0.8447 - val_f1_m: 0.8318\n",
      "Epoch 30/30\n",
      "214/214 [==============================] - 61s 285ms/step - loss: 0.2592 - accuracy: 0.9128 - recall_m: 0.9001 - precision_m: 0.9284 - f1_m: 0.9136 - val_loss: 0.5614 - val_accuracy: 0.8351 - val_recall_m: 0.8278 - val_precision_m: 0.8542 - val_f1_m: 0.8403\n",
      "vgg16 training time =  43.268448781967166\n"
     ]
    }
   ],
   "source": [
    "vgg16_model = vgg_variant.TLModel(224)\n",
    "vgg16_model.build(categories,VGG16)\n",
    "vgg16_model.compile(\n",
    "    loss = 'categorical_crossentropy',\n",
    "    optimizer = 'adam'\n",
    ")\n",
    "\n",
    "# calculating training time \n",
    "begin = time.time()\n",
    "# training \n",
    "history1 = vgg16_model.fit(30,train_data, test_data)\n",
    "end = time.time() \n",
    "vgg16_training_time  = end-begin\n",
    "# storing the result into a data frame \n",
    "vgg_16_history = pd.DataFrame(history1.history)\n",
    "vgg_16_history.to_csv('history/vgg16_result')\n",
    "# calculating the time for vgg16 \n",
    "print('vgg16 training time = ', vgg16_training_time/60)"
   ]
  },
  {
   "cell_type": "code",
   "execution_count": null,
   "id": "qnqxXQswaL6o",
   "metadata": {
    "colab": {
     "base_uri": "https://localhost:8080/",
     "height": 1000
    },
    "executionInfo": {
     "elapsed": 1626,
     "status": "ok",
     "timestamp": 1635002695065,
     "user": {
      "displayName": "Ipshita Ghosh",
      "photoUrl": "https://lh3.googleusercontent.com/a/default-user=s64",
      "userId": "15739552192473194332"
     },
     "user_tz": -330
    },
    "id": "qnqxXQswaL6o",
    "outputId": "df029776-3869-4af6-bb3b-d00cdbfcc31c"
   },
   "outputs": [
    {
     "data": {
      "text/html": [
       "<div>\n",
       "<style scoped>\n",
       "    .dataframe tbody tr th:only-of-type {\n",
       "        vertical-align: middle;\n",
       "    }\n",
       "\n",
       "    .dataframe tbody tr th {\n",
       "        vertical-align: top;\n",
       "    }\n",
       "\n",
       "    .dataframe thead th {\n",
       "        text-align: right;\n",
       "    }\n",
       "</style>\n",
       "<table border=\"1\" class=\"dataframe\">\n",
       "  <thead>\n",
       "    <tr style=\"text-align: right;\">\n",
       "      <th></th>\n",
       "      <th>loss</th>\n",
       "      <th>accuracy</th>\n",
       "      <th>recall_m</th>\n",
       "      <th>precision_m</th>\n",
       "      <th>f1_m</th>\n",
       "      <th>val_loss</th>\n",
       "      <th>val_accuracy</th>\n",
       "      <th>val_recall_m</th>\n",
       "      <th>val_precision_m</th>\n",
       "      <th>val_f1_m</th>\n",
       "    </tr>\n",
       "  </thead>\n",
       "  <tbody>\n",
       "    <tr>\n",
       "      <th>0</th>\n",
       "      <td>1.089453</td>\n",
       "      <td>0.626464</td>\n",
       "      <td>0.469042</td>\n",
       "      <td>0.756500</td>\n",
       "      <td>0.567187</td>\n",
       "      <td>0.643960</td>\n",
       "      <td>0.782456</td>\n",
       "      <td>0.696181</td>\n",
       "      <td>0.854377</td>\n",
       "      <td>0.763965</td>\n",
       "    </tr>\n",
       "    <tr>\n",
       "      <th>1</th>\n",
       "      <td>0.762466</td>\n",
       "      <td>0.745316</td>\n",
       "      <td>0.673189</td>\n",
       "      <td>0.815515</td>\n",
       "      <td>0.734574</td>\n",
       "      <td>0.572089</td>\n",
       "      <td>0.807018</td>\n",
       "      <td>0.755903</td>\n",
       "      <td>0.880774</td>\n",
       "      <td>0.811454</td>\n",
       "    </tr>\n",
       "    <tr>\n",
       "      <th>2</th>\n",
       "      <td>0.680952</td>\n",
       "      <td>0.772541</td>\n",
       "      <td>0.708820</td>\n",
       "      <td>0.828278</td>\n",
       "      <td>0.762261</td>\n",
       "      <td>0.548021</td>\n",
       "      <td>0.810526</td>\n",
       "      <td>0.772917</td>\n",
       "      <td>0.857314</td>\n",
       "      <td>0.812005</td>\n",
       "    </tr>\n",
       "    <tr>\n",
       "      <th>3</th>\n",
       "      <td>0.647344</td>\n",
       "      <td>0.779859</td>\n",
       "      <td>0.725175</td>\n",
       "      <td>0.840312</td>\n",
       "      <td>0.776797</td>\n",
       "      <td>0.610480</td>\n",
       "      <td>0.794737</td>\n",
       "      <td>0.757292</td>\n",
       "      <td>0.827615</td>\n",
       "      <td>0.789883</td>\n",
       "    </tr>\n",
       "    <tr>\n",
       "      <th>4</th>\n",
       "      <td>0.576975</td>\n",
       "      <td>0.810012</td>\n",
       "      <td>0.761098</td>\n",
       "      <td>0.860063</td>\n",
       "      <td>0.805940</td>\n",
       "      <td>0.558772</td>\n",
       "      <td>0.805263</td>\n",
       "      <td>0.765972</td>\n",
       "      <td>0.850534</td>\n",
       "      <td>0.804381</td>\n",
       "    </tr>\n",
       "    <tr>\n",
       "      <th>5</th>\n",
       "      <td>0.553849</td>\n",
       "      <td>0.821136</td>\n",
       "      <td>0.780666</td>\n",
       "      <td>0.866724</td>\n",
       "      <td>0.820053</td>\n",
       "      <td>0.568655</td>\n",
       "      <td>0.821053</td>\n",
       "      <td>0.777431</td>\n",
       "      <td>0.848493</td>\n",
       "      <td>0.810228</td>\n",
       "    </tr>\n",
       "    <tr>\n",
       "      <th>6</th>\n",
       "      <td>0.535438</td>\n",
       "      <td>0.820550</td>\n",
       "      <td>0.779790</td>\n",
       "      <td>0.865967</td>\n",
       "      <td>0.819249</td>\n",
       "      <td>0.599994</td>\n",
       "      <td>0.810526</td>\n",
       "      <td>0.782639</td>\n",
       "      <td>0.834623</td>\n",
       "      <td>0.807009</td>\n",
       "    </tr>\n",
       "    <tr>\n",
       "      <th>7</th>\n",
       "      <td>0.491988</td>\n",
       "      <td>0.834309</td>\n",
       "      <td>0.799065</td>\n",
       "      <td>0.873262</td>\n",
       "      <td>0.833263</td>\n",
       "      <td>0.635764</td>\n",
       "      <td>0.782456</td>\n",
       "      <td>0.747917</td>\n",
       "      <td>0.821000</td>\n",
       "      <td>0.781264</td>\n",
       "    </tr>\n",
       "    <tr>\n",
       "      <th>8</th>\n",
       "      <td>0.473277</td>\n",
       "      <td>0.840457</td>\n",
       "      <td>0.803446</td>\n",
       "      <td>0.873170</td>\n",
       "      <td>0.835851</td>\n",
       "      <td>0.480928</td>\n",
       "      <td>0.835088</td>\n",
       "      <td>0.820486</td>\n",
       "      <td>0.867130</td>\n",
       "      <td>0.842708</td>\n",
       "    </tr>\n",
       "    <tr>\n",
       "      <th>9</th>\n",
       "      <td>0.444322</td>\n",
       "      <td>0.853045</td>\n",
       "      <td>0.820970</td>\n",
       "      <td>0.888622</td>\n",
       "      <td>0.852343</td>\n",
       "      <td>0.547526</td>\n",
       "      <td>0.819298</td>\n",
       "      <td>0.795139</td>\n",
       "      <td>0.844896</td>\n",
       "      <td>0.818628</td>\n",
       "    </tr>\n",
       "    <tr>\n",
       "      <th>10</th>\n",
       "      <td>0.450547</td>\n",
       "      <td>0.847775</td>\n",
       "      <td>0.819509</td>\n",
       "      <td>0.882688</td>\n",
       "      <td>0.848833</td>\n",
       "      <td>0.506346</td>\n",
       "      <td>0.824561</td>\n",
       "      <td>0.802083</td>\n",
       "      <td>0.869302</td>\n",
       "      <td>0.832716</td>\n",
       "    </tr>\n",
       "    <tr>\n",
       "      <th>11</th>\n",
       "      <td>0.413190</td>\n",
       "      <td>0.857728</td>\n",
       "      <td>0.832944</td>\n",
       "      <td>0.887752</td>\n",
       "      <td>0.858581</td>\n",
       "      <td>0.552031</td>\n",
       "      <td>0.829825</td>\n",
       "      <td>0.797917</td>\n",
       "      <td>0.869541</td>\n",
       "      <td>0.831367</td>\n",
       "    </tr>\n",
       "    <tr>\n",
       "      <th>12</th>\n",
       "      <td>0.416833</td>\n",
       "      <td>0.866218</td>\n",
       "      <td>0.837909</td>\n",
       "      <td>0.893932</td>\n",
       "      <td>0.864175</td>\n",
       "      <td>0.459719</td>\n",
       "      <td>0.859649</td>\n",
       "      <td>0.818056</td>\n",
       "      <td>0.882502</td>\n",
       "      <td>0.847989</td>\n",
       "    </tr>\n",
       "    <tr>\n",
       "      <th>13</th>\n",
       "      <td>0.400439</td>\n",
       "      <td>0.865925</td>\n",
       "      <td>0.844042</td>\n",
       "      <td>0.894477</td>\n",
       "      <td>0.867768</td>\n",
       "      <td>0.592011</td>\n",
       "      <td>0.815789</td>\n",
       "      <td>0.797222</td>\n",
       "      <td>0.836390</td>\n",
       "      <td>0.815674</td>\n",
       "    </tr>\n",
       "    <tr>\n",
       "      <th>14</th>\n",
       "      <td>0.372258</td>\n",
       "      <td>0.872365</td>\n",
       "      <td>0.847547</td>\n",
       "      <td>0.899141</td>\n",
       "      <td>0.871666</td>\n",
       "      <td>0.524997</td>\n",
       "      <td>0.843860</td>\n",
       "      <td>0.814931</td>\n",
       "      <td>0.868441</td>\n",
       "      <td>0.839830</td>\n",
       "    </tr>\n",
       "    <tr>\n",
       "      <th>15</th>\n",
       "      <td>0.359980</td>\n",
       "      <td>0.875585</td>\n",
       "      <td>0.852512</td>\n",
       "      <td>0.901955</td>\n",
       "      <td>0.875743</td>\n",
       "      <td>0.545008</td>\n",
       "      <td>0.833333</td>\n",
       "      <td>0.811458</td>\n",
       "      <td>0.859673</td>\n",
       "      <td>0.834354</td>\n",
       "    </tr>\n",
       "    <tr>\n",
       "      <th>16</th>\n",
       "      <td>0.354590</td>\n",
       "      <td>0.879098</td>\n",
       "      <td>0.852804</td>\n",
       "      <td>0.902638</td>\n",
       "      <td>0.876194</td>\n",
       "      <td>0.597680</td>\n",
       "      <td>0.805263</td>\n",
       "      <td>0.795486</td>\n",
       "      <td>0.841060</td>\n",
       "      <td>0.816316</td>\n",
       "    </tr>\n",
       "    <tr>\n",
       "      <th>17</th>\n",
       "      <td>0.352016</td>\n",
       "      <td>0.883197</td>\n",
       "      <td>0.864194</td>\n",
       "      <td>0.907071</td>\n",
       "      <td>0.884378</td>\n",
       "      <td>0.594039</td>\n",
       "      <td>0.815789</td>\n",
       "      <td>0.800347</td>\n",
       "      <td>0.842953</td>\n",
       "      <td>0.820506</td>\n",
       "    </tr>\n",
       "    <tr>\n",
       "      <th>18</th>\n",
       "      <td>0.334539</td>\n",
       "      <td>0.891101</td>\n",
       "      <td>0.869451</td>\n",
       "      <td>0.910209</td>\n",
       "      <td>0.888660</td>\n",
       "      <td>0.487916</td>\n",
       "      <td>0.849123</td>\n",
       "      <td>0.818056</td>\n",
       "      <td>0.874086</td>\n",
       "      <td>0.844234</td>\n",
       "    </tr>\n",
       "    <tr>\n",
       "      <th>19</th>\n",
       "      <td>0.314663</td>\n",
       "      <td>0.898126</td>\n",
       "      <td>0.879381</td>\n",
       "      <td>0.922145</td>\n",
       "      <td>0.899608</td>\n",
       "      <td>0.495015</td>\n",
       "      <td>0.852632</td>\n",
       "      <td>0.828472</td>\n",
       "      <td>0.881939</td>\n",
       "      <td>0.853444</td>\n",
       "    </tr>\n",
       "    <tr>\n",
       "      <th>20</th>\n",
       "      <td>0.310450</td>\n",
       "      <td>0.895199</td>\n",
       "      <td>0.879965</td>\n",
       "      <td>0.916551</td>\n",
       "      <td>0.897292</td>\n",
       "      <td>0.567874</td>\n",
       "      <td>0.828070</td>\n",
       "      <td>0.806597</td>\n",
       "      <td>0.848975</td>\n",
       "      <td>0.826721</td>\n",
       "    </tr>\n",
       "    <tr>\n",
       "      <th>21</th>\n",
       "      <td>0.298826</td>\n",
       "      <td>0.893150</td>\n",
       "      <td>0.876168</td>\n",
       "      <td>0.913824</td>\n",
       "      <td>0.894086</td>\n",
       "      <td>0.682688</td>\n",
       "      <td>0.805263</td>\n",
       "      <td>0.789583</td>\n",
       "      <td>0.821920</td>\n",
       "      <td>0.804756</td>\n",
       "    </tr>\n",
       "    <tr>\n",
       "      <th>22</th>\n",
       "      <td>0.266244</td>\n",
       "      <td>0.905738</td>\n",
       "      <td>0.894276</td>\n",
       "      <td>0.923467</td>\n",
       "      <td>0.908162</td>\n",
       "      <td>0.524668</td>\n",
       "      <td>0.849123</td>\n",
       "      <td>0.831250</td>\n",
       "      <td>0.863724</td>\n",
       "      <td>0.846647</td>\n",
       "    </tr>\n",
       "    <tr>\n",
       "      <th>23</th>\n",
       "      <td>0.294739</td>\n",
       "      <td>0.900176</td>\n",
       "      <td>0.886098</td>\n",
       "      <td>0.918572</td>\n",
       "      <td>0.901602</td>\n",
       "      <td>0.560524</td>\n",
       "      <td>0.847368</td>\n",
       "      <td>0.832292</td>\n",
       "      <td>0.873743</td>\n",
       "      <td>0.851831</td>\n",
       "    </tr>\n",
       "    <tr>\n",
       "      <th>24</th>\n",
       "      <td>0.293078</td>\n",
       "      <td>0.906030</td>\n",
       "      <td>0.889895</td>\n",
       "      <td>0.920182</td>\n",
       "      <td>0.904329</td>\n",
       "      <td>0.550908</td>\n",
       "      <td>0.840351</td>\n",
       "      <td>0.812153</td>\n",
       "      <td>0.856400</td>\n",
       "      <td>0.832946</td>\n",
       "    </tr>\n",
       "    <tr>\n",
       "      <th>25</th>\n",
       "      <td>0.282780</td>\n",
       "      <td>0.899297</td>\n",
       "      <td>0.885514</td>\n",
       "      <td>0.917638</td>\n",
       "      <td>0.900787</td>\n",
       "      <td>0.592494</td>\n",
       "      <td>0.842105</td>\n",
       "      <td>0.819792</td>\n",
       "      <td>0.849930</td>\n",
       "      <td>0.834058</td>\n",
       "    </tr>\n",
       "    <tr>\n",
       "      <th>26</th>\n",
       "      <td>0.264900</td>\n",
       "      <td>0.911300</td>\n",
       "      <td>0.898364</td>\n",
       "      <td>0.927507</td>\n",
       "      <td>0.912229</td>\n",
       "      <td>0.557955</td>\n",
       "      <td>0.828070</td>\n",
       "      <td>0.822917</td>\n",
       "      <td>0.848826</td>\n",
       "      <td>0.835308</td>\n",
       "    </tr>\n",
       "    <tr>\n",
       "      <th>27</th>\n",
       "      <td>0.280957</td>\n",
       "      <td>0.905445</td>\n",
       "      <td>0.891063</td>\n",
       "      <td>0.918686</td>\n",
       "      <td>0.904275</td>\n",
       "      <td>0.530397</td>\n",
       "      <td>0.847368</td>\n",
       "      <td>0.828472</td>\n",
       "      <td>0.864600</td>\n",
       "      <td>0.845740</td>\n",
       "    </tr>\n",
       "    <tr>\n",
       "      <th>28</th>\n",
       "      <td>0.245915</td>\n",
       "      <td>0.918033</td>\n",
       "      <td>0.905958</td>\n",
       "      <td>0.931743</td>\n",
       "      <td>0.918323</td>\n",
       "      <td>0.618647</td>\n",
       "      <td>0.833333</td>\n",
       "      <td>0.819792</td>\n",
       "      <td>0.844720</td>\n",
       "      <td>0.831780</td>\n",
       "    </tr>\n",
       "    <tr>\n",
       "      <th>29</th>\n",
       "      <td>0.259238</td>\n",
       "      <td>0.912763</td>\n",
       "      <td>0.900117</td>\n",
       "      <td>0.928386</td>\n",
       "      <td>0.913589</td>\n",
       "      <td>0.561364</td>\n",
       "      <td>0.835088</td>\n",
       "      <td>0.827778</td>\n",
       "      <td>0.854234</td>\n",
       "      <td>0.840332</td>\n",
       "    </tr>\n",
       "  </tbody>\n",
       "</table>\n",
       "</div>"
      ],
      "text/plain": [
       "        loss  accuracy  recall_m  ...  val_recall_m  val_precision_m  val_f1_m\n",
       "0   1.089453  0.626464  0.469042  ...      0.696181         0.854377  0.763965\n",
       "1   0.762466  0.745316  0.673189  ...      0.755903         0.880774  0.811454\n",
       "2   0.680952  0.772541  0.708820  ...      0.772917         0.857314  0.812005\n",
       "3   0.647344  0.779859  0.725175  ...      0.757292         0.827615  0.789883\n",
       "4   0.576975  0.810012  0.761098  ...      0.765972         0.850534  0.804381\n",
       "5   0.553849  0.821136  0.780666  ...      0.777431         0.848493  0.810228\n",
       "6   0.535438  0.820550  0.779790  ...      0.782639         0.834623  0.807009\n",
       "7   0.491988  0.834309  0.799065  ...      0.747917         0.821000  0.781264\n",
       "8   0.473277  0.840457  0.803446  ...      0.820486         0.867130  0.842708\n",
       "9   0.444322  0.853045  0.820970  ...      0.795139         0.844896  0.818628\n",
       "10  0.450547  0.847775  0.819509  ...      0.802083         0.869302  0.832716\n",
       "11  0.413190  0.857728  0.832944  ...      0.797917         0.869541  0.831367\n",
       "12  0.416833  0.866218  0.837909  ...      0.818056         0.882502  0.847989\n",
       "13  0.400439  0.865925  0.844042  ...      0.797222         0.836390  0.815674\n",
       "14  0.372258  0.872365  0.847547  ...      0.814931         0.868441  0.839830\n",
       "15  0.359980  0.875585  0.852512  ...      0.811458         0.859673  0.834354\n",
       "16  0.354590  0.879098  0.852804  ...      0.795486         0.841060  0.816316\n",
       "17  0.352016  0.883197  0.864194  ...      0.800347         0.842953  0.820506\n",
       "18  0.334539  0.891101  0.869451  ...      0.818056         0.874086  0.844234\n",
       "19  0.314663  0.898126  0.879381  ...      0.828472         0.881939  0.853444\n",
       "20  0.310450  0.895199  0.879965  ...      0.806597         0.848975  0.826721\n",
       "21  0.298826  0.893150  0.876168  ...      0.789583         0.821920  0.804756\n",
       "22  0.266244  0.905738  0.894276  ...      0.831250         0.863724  0.846647\n",
       "23  0.294739  0.900176  0.886098  ...      0.832292         0.873743  0.851831\n",
       "24  0.293078  0.906030  0.889895  ...      0.812153         0.856400  0.832946\n",
       "25  0.282780  0.899297  0.885514  ...      0.819792         0.849930  0.834058\n",
       "26  0.264900  0.911300  0.898364  ...      0.822917         0.848826  0.835308\n",
       "27  0.280957  0.905445  0.891063  ...      0.828472         0.864600  0.845740\n",
       "28  0.245915  0.918033  0.905958  ...      0.819792         0.844720  0.831780\n",
       "29  0.259238  0.912763  0.900117  ...      0.827778         0.854234  0.840332\n",
       "\n",
       "[30 rows x 10 columns]"
      ]
     },
     "execution_count": 10,
     "metadata": {},
     "output_type": "execute_result"
    },
    {
     "data": {
      "image/png": "[encoded data removed]",
      "text/plain": [
       "<Figure size 864x288 with 2 Axes>"
      ]
     },
     "metadata": {
      "needs_background": "light"
     },
     "output_type": "display_data"
    }
   ],
   "source": [
    " # visualizing the performance \n",
    "vgg16_model.plot_performance(history1)\n",
    "vgg_16_history"
   ]
  },
  {
   "cell_type": "markdown",
   "id": "wQHEgQbQm0BJ",
   "metadata": {
    "id": "wQHEgQbQm0BJ"
   },
   "source": [
    "###  VGG19 "
   ]
  },
  {
   "cell_type": "code",
   "execution_count": null,
   "id": "IKBd4TRJ6IWE",
   "metadata": {
    "colab": {
     "base_uri": "https://localhost:8080/"
    },
    "executionInfo": {
     "elapsed": 2590126,
     "status": "ok",
     "timestamp": 1635012941910,
     "user": {
      "displayName": "Ipshita Ghosh",
      "photoUrl": "https://lh3.googleusercontent.com/a/default-user=s64",
      "userId": "15739552192473194332"
     },
     "user_tz": -330
    },
    "id": "IKBd4TRJ6IWE",
    "outputId": "ae763631-be7d-4bf0-93cb-07a0b5fb61b4",
    "scrolled": false
   },
   "outputs": [
    {
     "name": "stderr",
     "output_type": "stream",
     "text": [
      "WARNING:Models.vgg_variant:Creating model.log file in log directory\n"
     ]
    },
    {
     "name": "stdout",
     "output_type": "stream",
     "text": [
      "Downloading data from https://storage.googleapis.com/tensorflow/keras-applications/vgg19/vgg19_weights_tf_dim_ordering_tf_kernels_notop.h5\n",
      "80142336/80134624 [==============================] - 1s 0us/step\n",
      "80150528/80134624 [==============================] - 1s 0us/step\n"
     ]
    },
    {
     "name": "stderr",
     "output_type": "stream",
     "text": [
      "WARNING:Models.vgg_variant:Building the model\n",
      "WARNING:Models.vgg_variant:Compiling Model\n",
      "/usr/local/lib/python3.7/dist-packages/keras/engine/training.py:1972: UserWarning: `Model.fit_generator` is deprecated and will be removed in a future version. Please use `Model.fit`, which supports generators.\n",
      "  warnings.warn('`Model.fit_generator` is deprecated and '\n"
     ]
    },
    {
     "name": "stdout",
     "output_type": "stream",
     "text": [
      "Epoch 1/30\n",
      "214/214 [==============================] - 670s 3s/step - loss: 1.1478 - accuracy: 0.6101 - recall_m: 0.4428 - precision_m: 0.7517 - f1_m: 0.5410 - val_loss: 1.0198 - val_accuracy: 0.6456 - val_recall_m: 0.5628 - val_precision_m: 0.7300 - val_f1_m: 0.6316\n",
      "Epoch 2/30\n",
      "214/214 [==============================] - 64s 300ms/step - loss: 0.7970 - accuracy: 0.7415 - recall_m: 0.6586 - precision_m: 0.8184 - f1_m: 0.7273 - val_loss: 0.6133 - val_accuracy: 0.7947 - val_recall_m: 0.7583 - val_precision_m: 0.8461 - val_f1_m: 0.7980\n",
      "Epoch 3/30\n",
      "214/214 [==============================] - 66s 308ms/step - loss: 0.7247 - accuracy: 0.7608 - recall_m: 0.6957 - precision_m: 0.8263 - f1_m: 0.7533 - val_loss: 0.6028 - val_accuracy: 0.7947 - val_recall_m: 0.7792 - val_precision_m: 0.8308 - val_f1_m: 0.8034\n",
      "Epoch 4/30\n",
      "214/214 [==============================] - 64s 301ms/step - loss: 0.6576 - accuracy: 0.7769 - recall_m: 0.7223 - precision_m: 0.8442 - f1_m: 0.7765 - val_loss: 0.5282 - val_accuracy: 0.8246 - val_recall_m: 0.7781 - val_precision_m: 0.8629 - val_f1_m: 0.8167\n",
      "Epoch 5/30\n",
      "214/214 [==============================] - 64s 301ms/step - loss: 0.6350 - accuracy: 0.7927 - recall_m: 0.7389 - precision_m: 0.8494 - f1_m: 0.7882 - val_loss: 0.5309 - val_accuracy: 0.8333 - val_recall_m: 0.8045 - val_precision_m: 0.8692 - val_f1_m: 0.8344\n",
      "Epoch 6/30\n",
      "214/214 [==============================] - 64s 301ms/step - loss: 0.5867 - accuracy: 0.8085 - recall_m: 0.7561 - precision_m: 0.8525 - f1_m: 0.8000 - val_loss: 0.5149 - val_accuracy: 0.8175 - val_recall_m: 0.7573 - val_precision_m: 0.8506 - val_f1_m: 0.8000\n",
      "Epoch 7/30\n",
      "214/214 [==============================] - 64s 300ms/step - loss: 0.5604 - accuracy: 0.8159 - recall_m: 0.7716 - precision_m: 0.8639 - f1_m: 0.8135 - val_loss: 0.5079 - val_accuracy: 0.8140 - val_recall_m: 0.8000 - val_precision_m: 0.8532 - val_f1_m: 0.8250\n",
      "Epoch 8/30\n",
      "214/214 [==============================] - 65s 305ms/step - loss: 0.5336 - accuracy: 0.8270 - recall_m: 0.7792 - precision_m: 0.8716 - f1_m: 0.8210 - val_loss: 0.5444 - val_accuracy: 0.8246 - val_recall_m: 0.7979 - val_precision_m: 0.8605 - val_f1_m: 0.8273\n",
      "Epoch 9/30\n",
      "214/214 [==============================] - 64s 299ms/step - loss: 0.5191 - accuracy: 0.8229 - recall_m: 0.7856 - precision_m: 0.8631 - f1_m: 0.8214 - val_loss: 0.5379 - val_accuracy: 0.8281 - val_recall_m: 0.7882 - val_precision_m: 0.8542 - val_f1_m: 0.8187\n",
      "Epoch 10/30\n",
      "214/214 [==============================] - 66s 307ms/step - loss: 0.4996 - accuracy: 0.8337 - recall_m: 0.7938 - precision_m: 0.8722 - f1_m: 0.8297 - val_loss: 0.4551 - val_accuracy: 0.8421 - val_recall_m: 0.8163 - val_precision_m: 0.8793 - val_f1_m: 0.8459\n",
      "Epoch 11/30\n",
      "214/214 [==============================] - 66s 308ms/step - loss: 0.4875 - accuracy: 0.8390 - recall_m: 0.8064 - precision_m: 0.8773 - f1_m: 0.8391 - val_loss: 0.5620 - val_accuracy: 0.8263 - val_recall_m: 0.7906 - val_precision_m: 0.8553 - val_f1_m: 0.8208\n",
      "Epoch 12/30\n",
      "214/214 [==============================] - 65s 305ms/step - loss: 0.4629 - accuracy: 0.8410 - recall_m: 0.8067 - precision_m: 0.8767 - f1_m: 0.8391 - val_loss: 0.4704 - val_accuracy: 0.8439 - val_recall_m: 0.8201 - val_precision_m: 0.8813 - val_f1_m: 0.8487\n",
      "Epoch 13/30\n",
      "214/214 [==============================] - 64s 301ms/step - loss: 0.4519 - accuracy: 0.8466 - recall_m: 0.8137 - precision_m: 0.8826 - f1_m: 0.8459 - val_loss: 0.4994 - val_accuracy: 0.8368 - val_recall_m: 0.8167 - val_precision_m: 0.8682 - val_f1_m: 0.8406\n",
      "Epoch 14/30\n",
      "214/214 [==============================] - 64s 300ms/step - loss: 0.4557 - accuracy: 0.8443 - recall_m: 0.8102 - precision_m: 0.8806 - f1_m: 0.8429 - val_loss: 0.5786 - val_accuracy: 0.8193 - val_recall_m: 0.7931 - val_precision_m: 0.8473 - val_f1_m: 0.8185\n",
      "Epoch 15/30\n",
      "214/214 [==============================] - 65s 302ms/step - loss: 0.4243 - accuracy: 0.8571 - recall_m: 0.8233 - precision_m: 0.8875 - f1_m: 0.8531 - val_loss: 0.5862 - val_accuracy: 0.8000 - val_recall_m: 0.7747 - val_precision_m: 0.8245 - val_f1_m: 0.7980\n",
      "Epoch 16/30\n",
      "214/214 [==============================] - 65s 303ms/step - loss: 0.4065 - accuracy: 0.8574 - recall_m: 0.8329 - precision_m: 0.8913 - f1_m: 0.8601 - val_loss: 0.6005 - val_accuracy: 0.8088 - val_recall_m: 0.7837 - val_precision_m: 0.8340 - val_f1_m: 0.8074\n",
      "Epoch 17/30\n",
      "214/214 [==============================] - 64s 301ms/step - loss: 0.3862 - accuracy: 0.8709 - recall_m: 0.8443 - precision_m: 0.8965 - f1_m: 0.8689 - val_loss: 0.5889 - val_accuracy: 0.8123 - val_recall_m: 0.7872 - val_precision_m: 0.8302 - val_f1_m: 0.8075\n",
      "Epoch 18/30\n",
      "214/214 [==============================] - 64s 299ms/step - loss: 0.3809 - accuracy: 0.8697 - recall_m: 0.8461 - precision_m: 0.8977 - f1_m: 0.8702 - val_loss: 0.5485 - val_accuracy: 0.8263 - val_recall_m: 0.8122 - val_precision_m: 0.8457 - val_f1_m: 0.8279\n",
      "Epoch 19/30\n",
      "214/214 [==============================] - 64s 298ms/step - loss: 0.3759 - accuracy: 0.8750 - recall_m: 0.8511 - precision_m: 0.9019 - f1_m: 0.8749 - val_loss: 0.6013 - val_accuracy: 0.8123 - val_recall_m: 0.8010 - val_precision_m: 0.8407 - val_f1_m: 0.8199\n",
      "Epoch 20/30\n",
      "214/214 [==============================] - 64s 298ms/step - loss: 0.3711 - accuracy: 0.8762 - recall_m: 0.8531 - precision_m: 0.9025 - f1_m: 0.8763 - val_loss: 0.6191 - val_accuracy: 0.8158 - val_recall_m: 0.8028 - val_precision_m: 0.8432 - val_f1_m: 0.8220\n",
      "Epoch 21/30\n",
      "214/214 [==============================] - 64s 299ms/step - loss: 0.3687 - accuracy: 0.8756 - recall_m: 0.8502 - precision_m: 0.9040 - f1_m: 0.8753 - val_loss: 0.4767 - val_accuracy: 0.8439 - val_recall_m: 0.8250 - val_precision_m: 0.8694 - val_f1_m: 0.8457\n",
      "Epoch 22/30\n",
      "214/214 [==============================] - 64s 298ms/step - loss: 0.3365 - accuracy: 0.8914 - recall_m: 0.8697 - precision_m: 0.9176 - f1_m: 0.8921 - val_loss: 0.5722 - val_accuracy: 0.8193 - val_recall_m: 0.8014 - val_precision_m: 0.8366 - val_f1_m: 0.8180\n",
      "Epoch 23/30\n",
      "214/214 [==============================] - 64s 301ms/step - loss: 0.3488 - accuracy: 0.8814 - recall_m: 0.8689 - precision_m: 0.9042 - f1_m: 0.8856 - val_loss: 0.5493 - val_accuracy: 0.8404 - val_recall_m: 0.8243 - val_precision_m: 0.8559 - val_f1_m: 0.8393\n",
      "Epoch 24/30\n",
      "214/214 [==============================] - 65s 304ms/step - loss: 0.3324 - accuracy: 0.8852 - recall_m: 0.8674 - precision_m: 0.9089 - f1_m: 0.8870 - val_loss: 0.5717 - val_accuracy: 0.8228 - val_recall_m: 0.8142 - val_precision_m: 0.8587 - val_f1_m: 0.8352\n",
      "Epoch 25/30\n",
      "214/214 [==============================] - 65s 301ms/step - loss: 0.3351 - accuracy: 0.8858 - recall_m: 0.8683 - precision_m: 0.9052 - f1_m: 0.8858 - val_loss: 0.6293 - val_accuracy: 0.8281 - val_recall_m: 0.7990 - val_precision_m: 0.8563 - val_f1_m: 0.8257\n",
      "Epoch 26/30\n",
      "214/214 [==============================] - 64s 299ms/step - loss: 0.3125 - accuracy: 0.8931 - recall_m: 0.8718 - precision_m: 0.9165 - f1_m: 0.8929 - val_loss: 0.6744 - val_accuracy: 0.7895 - val_recall_m: 0.7743 - val_precision_m: 0.8082 - val_f1_m: 0.7904\n",
      "Epoch 27/30\n",
      "214/214 [==============================] - 65s 301ms/step - loss: 0.3106 - accuracy: 0.9034 - recall_m: 0.8788 - precision_m: 0.9185 - f1_m: 0.8976 - val_loss: 0.6427 - val_accuracy: 0.8140 - val_recall_m: 0.8035 - val_precision_m: 0.8336 - val_f1_m: 0.8177\n",
      "Epoch 28/30\n",
      "214/214 [==============================] - 65s 304ms/step - loss: 0.3165 - accuracy: 0.8893 - recall_m: 0.8727 - precision_m: 0.9105 - f1_m: 0.8904 - val_loss: 0.4712 - val_accuracy: 0.8596 - val_recall_m: 0.8312 - val_precision_m: 0.8825 - val_f1_m: 0.8553\n",
      "Epoch 29/30\n",
      "214/214 [==============================] - 64s 301ms/step - loss: 0.3094 - accuracy: 0.8955 - recall_m: 0.8768 - precision_m: 0.9135 - f1_m: 0.8942 - val_loss: 0.6199 - val_accuracy: 0.8070 - val_recall_m: 0.7931 - val_precision_m: 0.8407 - val_f1_m: 0.8156\n",
      "Epoch 30/30\n",
      "214/214 [==============================] - 65s 302ms/step - loss: 0.3048 - accuracy: 0.8984 - recall_m: 0.8808 - precision_m: 0.9179 - f1_m: 0.8984 - val_loss: 0.7319 - val_accuracy: 0.8088 - val_recall_m: 0.7927 - val_precision_m: 0.8267 - val_f1_m: 0.8088\n",
      "vgg19 training time =  43.030766483147936\n"
     ]
    }
   ],
   "source": [
    "model2 = vgg_variant.TLModel(224)\n",
    "model2.build(categories,VGG19)\n",
    "model2.compile(\n",
    "    loss = 'categorical_crossentropy',\n",
    "    optimizer = 'adam'\n",
    ")\n",
    "\n",
    "# finding the time required for model training \n",
    "begin = time.time() \n",
    "history2 = model2.fit(30,train_data, test_data)\n",
    "end = time.time() \n",
    "vgg19_time = (end-begin)/60\n",
    "\n",
    "vgg_19_history = pd.DataFrame(history2.history)\n",
    "vgg_19_history.to_csv('history/vgg19_result.csv')\n",
    "\n",
    "# model training time \n",
    "print('vgg19 training time = ', vgg19_time) "
   ]
  },
  {
   "cell_type": "code",
   "execution_count": null,
   "id": "413fy8U_W_99",
   "metadata": {
    "id": "413fy8U_W_99"
   },
   "outputs": [],
   "source": [
    "vgg_19_history.to_csv('history/vgg19_result.csv')"
   ]
  },
  {
   "cell_type": "code",
   "execution_count": null,
   "id": "kDRnTzvcXhie",
   "metadata": {
    "colab": {
     "base_uri": "https://localhost:8080/",
     "height": 979
    },
    "executionInfo": {
     "elapsed": 506,
     "status": "ok",
     "timestamp": 1635013020184,
     "user": {
      "displayName": "Ipshita Ghosh",
      "photoUrl": "https://lh3.googleusercontent.com/a/default-user=s64",
      "userId": "15739552192473194332"
     },
     "user_tz": -330
    },
    "id": "kDRnTzvcXhie",
    "outputId": "f14fb1d4-9e65-40dd-bb24-2ac446695511"
   },
   "outputs": [
    {
     "data": {
      "text/html": [
       "<div>\n",
       "<style scoped>\n",
       "    .dataframe tbody tr th:only-of-type {\n",
       "        vertical-align: middle;\n",
       "    }\n",
       "\n",
       "    .dataframe tbody tr th {\n",
       "        vertical-align: top;\n",
       "    }\n",
       "\n",
       "    .dataframe thead th {\n",
       "        text-align: right;\n",
       "    }\n",
       "</style>\n",
       "<table border=\"1\" class=\"dataframe\">\n",
       "  <thead>\n",
       "    <tr style=\"text-align: right;\">\n",
       "      <th></th>\n",
       "      <th>loss</th>\n",
       "      <th>accuracy</th>\n",
       "      <th>recall_m</th>\n",
       "      <th>precision_m</th>\n",
       "      <th>f1_m</th>\n",
       "      <th>val_loss</th>\n",
       "      <th>val_accuracy</th>\n",
       "      <th>val_recall_m</th>\n",
       "      <th>val_precision_m</th>\n",
       "      <th>val_f1_m</th>\n",
       "    </tr>\n",
       "  </thead>\n",
       "  <tbody>\n",
       "    <tr>\n",
       "      <th>0</th>\n",
       "      <td>1.147812</td>\n",
       "      <td>0.610070</td>\n",
       "      <td>0.442757</td>\n",
       "      <td>0.751668</td>\n",
       "      <td>0.540956</td>\n",
       "      <td>1.019816</td>\n",
       "      <td>0.645614</td>\n",
       "      <td>0.562847</td>\n",
       "      <td>0.729994</td>\n",
       "      <td>0.631574</td>\n",
       "    </tr>\n",
       "    <tr>\n",
       "      <th>1</th>\n",
       "      <td>0.797039</td>\n",
       "      <td>0.741511</td>\n",
       "      <td>0.658586</td>\n",
       "      <td>0.818409</td>\n",
       "      <td>0.727328</td>\n",
       "      <td>0.613317</td>\n",
       "      <td>0.794737</td>\n",
       "      <td>0.758333</td>\n",
       "      <td>0.846135</td>\n",
       "      <td>0.797951</td>\n",
       "    </tr>\n",
       "    <tr>\n",
       "      <th>2</th>\n",
       "      <td>0.724713</td>\n",
       "      <td>0.760831</td>\n",
       "      <td>0.695678</td>\n",
       "      <td>0.826276</td>\n",
       "      <td>0.753314</td>\n",
       "      <td>0.602800</td>\n",
       "      <td>0.794737</td>\n",
       "      <td>0.779167</td>\n",
       "      <td>0.830775</td>\n",
       "      <td>0.803444</td>\n",
       "    </tr>\n",
       "    <tr>\n",
       "      <th>3</th>\n",
       "      <td>0.657587</td>\n",
       "      <td>0.776932</td>\n",
       "      <td>0.722255</td>\n",
       "      <td>0.844192</td>\n",
       "      <td>0.776513</td>\n",
       "      <td>0.528174</td>\n",
       "      <td>0.824561</td>\n",
       "      <td>0.778125</td>\n",
       "      <td>0.862853</td>\n",
       "      <td>0.816735</td>\n",
       "    </tr>\n",
       "    <tr>\n",
       "      <th>4</th>\n",
       "      <td>0.635028</td>\n",
       "      <td>0.792740</td>\n",
       "      <td>0.738902</td>\n",
       "      <td>0.849438</td>\n",
       "      <td>0.788159</td>\n",
       "      <td>0.530870</td>\n",
       "      <td>0.833333</td>\n",
       "      <td>0.804514</td>\n",
       "      <td>0.869233</td>\n",
       "      <td>0.834430</td>\n",
       "    </tr>\n",
       "    <tr>\n",
       "      <th>5</th>\n",
       "      <td>0.586668</td>\n",
       "      <td>0.808548</td>\n",
       "      <td>0.756133</td>\n",
       "      <td>0.852481</td>\n",
       "      <td>0.800000</td>\n",
       "      <td>0.514945</td>\n",
       "      <td>0.817544</td>\n",
       "      <td>0.757292</td>\n",
       "      <td>0.850558</td>\n",
       "      <td>0.800011</td>\n",
       "    </tr>\n",
       "    <tr>\n",
       "      <th>6</th>\n",
       "      <td>0.560419</td>\n",
       "      <td>0.815867</td>\n",
       "      <td>0.771612</td>\n",
       "      <td>0.863927</td>\n",
       "      <td>0.813514</td>\n",
       "      <td>0.507927</td>\n",
       "      <td>0.814035</td>\n",
       "      <td>0.800000</td>\n",
       "      <td>0.853176</td>\n",
       "      <td>0.825020</td>\n",
       "    </tr>\n",
       "    <tr>\n",
       "      <th>7</th>\n",
       "      <td>0.533589</td>\n",
       "      <td>0.826991</td>\n",
       "      <td>0.779206</td>\n",
       "      <td>0.871564</td>\n",
       "      <td>0.820967</td>\n",
       "      <td>0.544373</td>\n",
       "      <td>0.824561</td>\n",
       "      <td>0.797917</td>\n",
       "      <td>0.860459</td>\n",
       "      <td>0.827278</td>\n",
       "    </tr>\n",
       "    <tr>\n",
       "      <th>8</th>\n",
       "      <td>0.519069</td>\n",
       "      <td>0.822892</td>\n",
       "      <td>0.785631</td>\n",
       "      <td>0.863062</td>\n",
       "      <td>0.821360</td>\n",
       "      <td>0.537895</td>\n",
       "      <td>0.828070</td>\n",
       "      <td>0.788194</td>\n",
       "      <td>0.854215</td>\n",
       "      <td>0.818692</td>\n",
       "    </tr>\n",
       "    <tr>\n",
       "      <th>9</th>\n",
       "      <td>0.499571</td>\n",
       "      <td>0.833724</td>\n",
       "      <td>0.793808</td>\n",
       "      <td>0.872213</td>\n",
       "      <td>0.829747</td>\n",
       "      <td>0.455093</td>\n",
       "      <td>0.842105</td>\n",
       "      <td>0.816319</td>\n",
       "      <td>0.879284</td>\n",
       "      <td>0.845890</td>\n",
       "    </tr>\n",
       "    <tr>\n",
       "      <th>10</th>\n",
       "      <td>0.487463</td>\n",
       "      <td>0.838993</td>\n",
       "      <td>0.806367</td>\n",
       "      <td>0.877315</td>\n",
       "      <td>0.839095</td>\n",
       "      <td>0.562047</td>\n",
       "      <td>0.826316</td>\n",
       "      <td>0.790625</td>\n",
       "      <td>0.855292</td>\n",
       "      <td>0.820816</td>\n",
       "    </tr>\n",
       "    <tr>\n",
       "      <th>11</th>\n",
       "      <td>0.462881</td>\n",
       "      <td>0.841042</td>\n",
       "      <td>0.806659</td>\n",
       "      <td>0.876749</td>\n",
       "      <td>0.839087</td>\n",
       "      <td>0.470389</td>\n",
       "      <td>0.843860</td>\n",
       "      <td>0.820139</td>\n",
       "      <td>0.881343</td>\n",
       "      <td>0.848698</td>\n",
       "    </tr>\n",
       "    <tr>\n",
       "      <th>12</th>\n",
       "      <td>0.451928</td>\n",
       "      <td>0.846604</td>\n",
       "      <td>0.813668</td>\n",
       "      <td>0.882591</td>\n",
       "      <td>0.845863</td>\n",
       "      <td>0.499444</td>\n",
       "      <td>0.836842</td>\n",
       "      <td>0.816667</td>\n",
       "      <td>0.868172</td>\n",
       "      <td>0.840630</td>\n",
       "    </tr>\n",
       "    <tr>\n",
       "      <th>13</th>\n",
       "      <td>0.455741</td>\n",
       "      <td>0.844262</td>\n",
       "      <td>0.810164</td>\n",
       "      <td>0.880594</td>\n",
       "      <td>0.842881</td>\n",
       "      <td>0.578605</td>\n",
       "      <td>0.819298</td>\n",
       "      <td>0.793056</td>\n",
       "      <td>0.847288</td>\n",
       "      <td>0.818512</td>\n",
       "    </tr>\n",
       "    <tr>\n",
       "      <th>14</th>\n",
       "      <td>0.424265</td>\n",
       "      <td>0.857143</td>\n",
       "      <td>0.823306</td>\n",
       "      <td>0.887542</td>\n",
       "      <td>0.853068</td>\n",
       "      <td>0.586197</td>\n",
       "      <td>0.800000</td>\n",
       "      <td>0.774653</td>\n",
       "      <td>0.824504</td>\n",
       "      <td>0.798006</td>\n",
       "    </tr>\n",
       "    <tr>\n",
       "      <th>15</th>\n",
       "      <td>0.406529</td>\n",
       "      <td>0.857436</td>\n",
       "      <td>0.832944</td>\n",
       "      <td>0.891309</td>\n",
       "      <td>0.860056</td>\n",
       "      <td>0.600475</td>\n",
       "      <td>0.808772</td>\n",
       "      <td>0.783681</td>\n",
       "      <td>0.834044</td>\n",
       "      <td>0.807428</td>\n",
       "    </tr>\n",
       "    <tr>\n",
       "      <th>16</th>\n",
       "      <td>0.386241</td>\n",
       "      <td>0.870902</td>\n",
       "      <td>0.844334</td>\n",
       "      <td>0.896472</td>\n",
       "      <td>0.868875</td>\n",
       "      <td>0.588853</td>\n",
       "      <td>0.812281</td>\n",
       "      <td>0.787153</td>\n",
       "      <td>0.830151</td>\n",
       "      <td>0.807520</td>\n",
       "    </tr>\n",
       "    <tr>\n",
       "      <th>17</th>\n",
       "      <td>0.380858</td>\n",
       "      <td>0.869731</td>\n",
       "      <td>0.846086</td>\n",
       "      <td>0.897657</td>\n",
       "      <td>0.870190</td>\n",
       "      <td>0.548479</td>\n",
       "      <td>0.826316</td>\n",
       "      <td>0.812153</td>\n",
       "      <td>0.845665</td>\n",
       "      <td>0.827924</td>\n",
       "    </tr>\n",
       "    <tr>\n",
       "      <th>18</th>\n",
       "      <td>0.375929</td>\n",
       "      <td>0.875000</td>\n",
       "      <td>0.851051</td>\n",
       "      <td>0.901885</td>\n",
       "      <td>0.874906</td>\n",
       "      <td>0.601278</td>\n",
       "      <td>0.812281</td>\n",
       "      <td>0.801042</td>\n",
       "      <td>0.840738</td>\n",
       "      <td>0.819918</td>\n",
       "    </tr>\n",
       "    <tr>\n",
       "      <th>19</th>\n",
       "      <td>0.371056</td>\n",
       "      <td>0.876171</td>\n",
       "      <td>0.853096</td>\n",
       "      <td>0.902547</td>\n",
       "      <td>0.876301</td>\n",
       "      <td>0.619115</td>\n",
       "      <td>0.815789</td>\n",
       "      <td>0.802778</td>\n",
       "      <td>0.843246</td>\n",
       "      <td>0.822006</td>\n",
       "    </tr>\n",
       "    <tr>\n",
       "      <th>20</th>\n",
       "      <td>0.368735</td>\n",
       "      <td>0.875585</td>\n",
       "      <td>0.850175</td>\n",
       "      <td>0.904020</td>\n",
       "      <td>0.875346</td>\n",
       "      <td>0.476687</td>\n",
       "      <td>0.843860</td>\n",
       "      <td>0.825000</td>\n",
       "      <td>0.869413</td>\n",
       "      <td>0.845722</td>\n",
       "    </tr>\n",
       "    <tr>\n",
       "      <th>21</th>\n",
       "      <td>0.336503</td>\n",
       "      <td>0.891393</td>\n",
       "      <td>0.869743</td>\n",
       "      <td>0.917579</td>\n",
       "      <td>0.892130</td>\n",
       "      <td>0.572177</td>\n",
       "      <td>0.819298</td>\n",
       "      <td>0.801389</td>\n",
       "      <td>0.836622</td>\n",
       "      <td>0.818009</td>\n",
       "    </tr>\n",
       "    <tr>\n",
       "      <th>22</th>\n",
       "      <td>0.348763</td>\n",
       "      <td>0.881440</td>\n",
       "      <td>0.868867</td>\n",
       "      <td>0.904181</td>\n",
       "      <td>0.885600</td>\n",
       "      <td>0.549329</td>\n",
       "      <td>0.840351</td>\n",
       "      <td>0.824306</td>\n",
       "      <td>0.855862</td>\n",
       "      <td>0.839251</td>\n",
       "    </tr>\n",
       "    <tr>\n",
       "      <th>23</th>\n",
       "      <td>0.332352</td>\n",
       "      <td>0.885246</td>\n",
       "      <td>0.867407</td>\n",
       "      <td>0.908942</td>\n",
       "      <td>0.886989</td>\n",
       "      <td>0.571725</td>\n",
       "      <td>0.822807</td>\n",
       "      <td>0.814236</td>\n",
       "      <td>0.858697</td>\n",
       "      <td>0.835158</td>\n",
       "    </tr>\n",
       "    <tr>\n",
       "      <th>24</th>\n",
       "      <td>0.335097</td>\n",
       "      <td>0.885831</td>\n",
       "      <td>0.868283</td>\n",
       "      <td>0.905242</td>\n",
       "      <td>0.885782</td>\n",
       "      <td>0.629305</td>\n",
       "      <td>0.828070</td>\n",
       "      <td>0.798958</td>\n",
       "      <td>0.856290</td>\n",
       "      <td>0.825698</td>\n",
       "    </tr>\n",
       "    <tr>\n",
       "      <th>25</th>\n",
       "      <td>0.312508</td>\n",
       "      <td>0.893150</td>\n",
       "      <td>0.871787</td>\n",
       "      <td>0.916541</td>\n",
       "      <td>0.892854</td>\n",
       "      <td>0.674361</td>\n",
       "      <td>0.789474</td>\n",
       "      <td>0.774306</td>\n",
       "      <td>0.808221</td>\n",
       "      <td>0.790437</td>\n",
       "    </tr>\n",
       "    <tr>\n",
       "      <th>26</th>\n",
       "      <td>0.310593</td>\n",
       "      <td>0.903396</td>\n",
       "      <td>0.878797</td>\n",
       "      <td>0.918543</td>\n",
       "      <td>0.897588</td>\n",
       "      <td>0.642741</td>\n",
       "      <td>0.814035</td>\n",
       "      <td>0.803472</td>\n",
       "      <td>0.833607</td>\n",
       "      <td>0.817739</td>\n",
       "    </tr>\n",
       "    <tr>\n",
       "      <th>27</th>\n",
       "      <td>0.316471</td>\n",
       "      <td>0.889344</td>\n",
       "      <td>0.872664</td>\n",
       "      <td>0.910474</td>\n",
       "      <td>0.890442</td>\n",
       "      <td>0.471176</td>\n",
       "      <td>0.859649</td>\n",
       "      <td>0.831250</td>\n",
       "      <td>0.882491</td>\n",
       "      <td>0.855255</td>\n",
       "    </tr>\n",
       "    <tr>\n",
       "      <th>28</th>\n",
       "      <td>0.309391</td>\n",
       "      <td>0.895492</td>\n",
       "      <td>0.876752</td>\n",
       "      <td>0.913544</td>\n",
       "      <td>0.894205</td>\n",
       "      <td>0.619883</td>\n",
       "      <td>0.807018</td>\n",
       "      <td>0.793056</td>\n",
       "      <td>0.840708</td>\n",
       "      <td>0.815554</td>\n",
       "    </tr>\n",
       "    <tr>\n",
       "      <th>29</th>\n",
       "      <td>0.304806</td>\n",
       "      <td>0.898419</td>\n",
       "      <td>0.880841</td>\n",
       "      <td>0.917870</td>\n",
       "      <td>0.898421</td>\n",
       "      <td>0.731923</td>\n",
       "      <td>0.808772</td>\n",
       "      <td>0.792708</td>\n",
       "      <td>0.826745</td>\n",
       "      <td>0.808793</td>\n",
       "    </tr>\n",
       "  </tbody>\n",
       "</table>\n",
       "</div>"
      ],
      "text/plain": [
       "        loss  accuracy  recall_m  ...  val_recall_m  val_precision_m  val_f1_m\n",
       "0   1.147812  0.610070  0.442757  ...      0.562847         0.729994  0.631574\n",
       "1   0.797039  0.741511  0.658586  ...      0.758333         0.846135  0.797951\n",
       "2   0.724713  0.760831  0.695678  ...      0.779167         0.830775  0.803444\n",
       "3   0.657587  0.776932  0.722255  ...      0.778125         0.862853  0.816735\n",
       "4   0.635028  0.792740  0.738902  ...      0.804514         0.869233  0.834430\n",
       "5   0.586668  0.808548  0.756133  ...      0.757292         0.850558  0.800011\n",
       "6   0.560419  0.815867  0.771612  ...      0.800000         0.853176  0.825020\n",
       "7   0.533589  0.826991  0.779206  ...      0.797917         0.860459  0.827278\n",
       "8   0.519069  0.822892  0.785631  ...      0.788194         0.854215  0.818692\n",
       "9   0.499571  0.833724  0.793808  ...      0.816319         0.879284  0.845890\n",
       "10  0.487463  0.838993  0.806367  ...      0.790625         0.855292  0.820816\n",
       "11  0.462881  0.841042  0.806659  ...      0.820139         0.881343  0.848698\n",
       "12  0.451928  0.846604  0.813668  ...      0.816667         0.868172  0.840630\n",
       "13  0.455741  0.844262  0.810164  ...      0.793056         0.847288  0.818512\n",
       "14  0.424265  0.857143  0.823306  ...      0.774653         0.824504  0.798006\n",
       "15  0.406529  0.857436  0.832944  ...      0.783681         0.834044  0.807428\n",
       "16  0.386241  0.870902  0.844334  ...      0.787153         0.830151  0.807520\n",
       "17  0.380858  0.869731  0.846086  ...      0.812153         0.845665  0.827924\n",
       "18  0.375929  0.875000  0.851051  ...      0.801042         0.840738  0.819918\n",
       "19  0.371056  0.876171  0.853096  ...      0.802778         0.843246  0.822006\n",
       "20  0.368735  0.875585  0.850175  ...      0.825000         0.869413  0.845722\n",
       "21  0.336503  0.891393  0.869743  ...      0.801389         0.836622  0.818009\n",
       "22  0.348763  0.881440  0.868867  ...      0.824306         0.855862  0.839251\n",
       "23  0.332352  0.885246  0.867407  ...      0.814236         0.858697  0.835158\n",
       "24  0.335097  0.885831  0.868283  ...      0.798958         0.856290  0.825698\n",
       "25  0.312508  0.893150  0.871787  ...      0.774306         0.808221  0.790437\n",
       "26  0.310593  0.903396  0.878797  ...      0.803472         0.833607  0.817739\n",
       "27  0.316471  0.889344  0.872664  ...      0.831250         0.882491  0.855255\n",
       "28  0.309391  0.895492  0.876752  ...      0.793056         0.840708  0.815554\n",
       "29  0.304806  0.898419  0.880841  ...      0.792708         0.826745  0.808793\n",
       "\n",
       "[30 rows x 10 columns]"
      ]
     },
     "execution_count": 9,
     "metadata": {},
     "output_type": "execute_result"
    }
   ],
   "source": [
    "vgg_19_history"
   ]
  },
  {
   "cell_type": "code",
   "execution_count": null,
   "id": "fwLnhnjrITW3",
   "metadata": {
    "colab": {
     "base_uri": "https://localhost:8080/",
     "height": 308
    },
    "executionInfo": {
     "elapsed": 950,
     "status": "ok",
     "timestamp": 1635013049953,
     "user": {
      "displayName": "Ipshita Ghosh",
      "photoUrl": "https://lh3.googleusercontent.com/a/default-user=s64",
      "userId": "15739552192473194332"
     },
     "user_tz": -330
    },
    "id": "fwLnhnjrITW3",
    "outputId": "fdc66b85-063f-4ddb-a355-51e7389e4879"
   },
   "outputs": [
    {
     "data": {
      "image/png": "[encoded data removed]",
      "text/plain": [
       "<Figure size 864x288 with 2 Axes>"
      ]
     },
     "metadata": {
      "needs_background": "light"
     },
     "output_type": "display_data"
    }
   ],
   "source": [
    "# plotting accuracy and loss \n",
    "model2.plot_performance(history2)"
   ]
  },
  {
   "cell_type": "markdown",
   "id": "RIuh9bycrfJX",
   "metadata": {
    "id": "RIuh9bycrfJX"
   },
   "source": [
    "### ResNet 50 "
   ]
  },
  {
   "cell_type": "code",
   "execution_count": null,
   "id": "TtFW_zK-nlR0",
   "metadata": {
    "colab": {
     "base_uri": "https://localhost:8080/"
    },
    "executionInfo": {
     "elapsed": 2656930,
     "status": "ok",
     "timestamp": 1635052238300,
     "user": {
      "displayName": "Thomaskutty Reji",
      "photoUrl": "https://lh3.googleusercontent.com/a-/AOh14Gjp0q-3uNfPlCqQ-vEOj3WrnqPgrCdGAvEOc-2Ecg=s64",
      "userId": "02143323878923298672"
     },
     "user_tz": -330
    },
    "id": "TtFW_zK-nlR0",
    "outputId": "61cc57f5-5eb5-409f-98ab-cdc0f9acf303",
    "scrolled": false
   },
   "outputs": [
    {
     "name": "stderr",
     "output_type": "stream",
     "text": [
      "WARNING:Models.vgg_variant:Creating model.log file in log directory\n",
      "WARNING:Models.vgg_variant:Building the model\n",
      "WARNING:Models.vgg_variant:Compiling Model\n",
      "/usr/local/lib/python3.7/dist-packages/keras/engine/training.py:1972: UserWarning: `Model.fit_generator` is deprecated and will be removed in a future version. Please use `Model.fit`, which supports generators.\n",
      "  warnings.warn('`Model.fit_generator` is deprecated and '\n"
     ]
    },
    {
     "name": "stdout",
     "output_type": "stream",
     "text": [
      "Epoch 1/30\n",
      "214/214 [==============================] - 844s 4s/step - loss: 1.8180 - accuracy: 0.2998 - recall_m: 0.0710 - precision_m: 0.4141 - f1_m: 0.1180 - val_loss: 1.7829 - val_accuracy: 0.3386 - val_recall_m: 0.1809 - val_precision_m: 0.5659 - val_f1_m: 0.2670\n",
      "Epoch 2/30\n",
      "214/214 [==============================] - 62s 290ms/step - loss: 1.6363 - accuracy: 0.3765 - recall_m: 0.1379 - precision_m: 0.5735 - f1_m: 0.2168 - val_loss: 1.5539 - val_accuracy: 0.4105 - val_recall_m: 0.1983 - val_precision_m: 0.6485 - val_f1_m: 0.2952\n",
      "Epoch 3/30\n",
      "214/214 [==============================] - 63s 292ms/step - loss: 1.5208 - accuracy: 0.4321 - recall_m: 0.1951 - precision_m: 0.6271 - f1_m: 0.2928 - val_loss: 1.3789 - val_accuracy: 0.5193 - val_recall_m: 0.2635 - val_precision_m: 0.7652 - val_f1_m: 0.3860\n",
      "Epoch 4/30\n",
      "214/214 [==============================] - 61s 287ms/step - loss: 1.3854 - accuracy: 0.4936 - recall_m: 0.2786 - precision_m: 0.6966 - f1_m: 0.3923 - val_loss: 1.2687 - val_accuracy: 0.5140 - val_recall_m: 0.3733 - val_precision_m: 0.7160 - val_f1_m: 0.4852\n",
      "Epoch 5/30\n",
      "214/214 [==============================] - 61s 284ms/step - loss: 1.3356 - accuracy: 0.5161 - recall_m: 0.3230 - precision_m: 0.7045 - f1_m: 0.4377 - val_loss: 1.2378 - val_accuracy: 0.5684 - val_recall_m: 0.4031 - val_precision_m: 0.7132 - val_f1_m: 0.5100\n",
      "Epoch 6/30\n",
      "214/214 [==============================] - 62s 288ms/step - loss: 1.2740 - accuracy: 0.5366 - recall_m: 0.3519 - precision_m: 0.7335 - f1_m: 0.4694 - val_loss: 1.1979 - val_accuracy: 0.5965 - val_recall_m: 0.4861 - val_precision_m: 0.7126 - val_f1_m: 0.5726\n",
      "Epoch 7/30\n",
      "214/214 [==============================] - 62s 291ms/step - loss: 1.2119 - accuracy: 0.5591 - recall_m: 0.3914 - precision_m: 0.7363 - f1_m: 0.5046 - val_loss: 1.4961 - val_accuracy: 0.4088 - val_recall_m: 0.3191 - val_precision_m: 0.5420 - val_f1_m: 0.3960\n",
      "Epoch 8/30\n",
      "214/214 [==============================] - 61s 284ms/step - loss: 1.2085 - accuracy: 0.5550 - recall_m: 0.4033 - precision_m: 0.7423 - f1_m: 0.5180 - val_loss: 1.1165 - val_accuracy: 0.6000 - val_recall_m: 0.4267 - val_precision_m: 0.7896 - val_f1_m: 0.5492\n",
      "Epoch 9/30\n",
      "214/214 [==============================] - 61s 285ms/step - loss: 1.1535 - accuracy: 0.5867 - recall_m: 0.4279 - precision_m: 0.7534 - f1_m: 0.5409 - val_loss: 1.1540 - val_accuracy: 0.6053 - val_recall_m: 0.4799 - val_precision_m: 0.7596 - val_f1_m: 0.5855\n",
      "Epoch 10/30\n",
      "214/214 [==============================] - 62s 287ms/step - loss: 1.1586 - accuracy: 0.5776 - recall_m: 0.4238 - precision_m: 0.7447 - f1_m: 0.5350 - val_loss: 1.1320 - val_accuracy: 0.5965 - val_recall_m: 0.4795 - val_precision_m: 0.6967 - val_f1_m: 0.5627\n",
      "Epoch 11/30\n",
      "214/214 [==============================] - 61s 285ms/step - loss: 1.1292 - accuracy: 0.6033 - recall_m: 0.4506 - precision_m: 0.7713 - f1_m: 0.5641 - val_loss: 1.1399 - val_accuracy: 0.5895 - val_recall_m: 0.4226 - val_precision_m: 0.7909 - val_f1_m: 0.5440\n",
      "Epoch 12/30\n",
      "214/214 [==============================] - 63s 292ms/step - loss: 1.0883 - accuracy: 0.6077 - recall_m: 0.4673 - precision_m: 0.7677 - f1_m: 0.5769 - val_loss: 1.6799 - val_accuracy: 0.4404 - val_recall_m: 0.3861 - val_precision_m: 0.4741 - val_f1_m: 0.4248\n",
      "Epoch 13/30\n",
      "214/214 [==============================] - 62s 287ms/step - loss: 1.0837 - accuracy: 0.6071 - recall_m: 0.4664 - precision_m: 0.7558 - f1_m: 0.5725 - val_loss: 1.0313 - val_accuracy: 0.6386 - val_recall_m: 0.4986 - val_precision_m: 0.7884 - val_f1_m: 0.6033\n",
      "Epoch 14/30\n",
      "214/214 [==============================] - 61s 286ms/step - loss: 1.0676 - accuracy: 0.6107 - recall_m: 0.4755 - precision_m: 0.7708 - f1_m: 0.5840 - val_loss: 1.0363 - val_accuracy: 0.6351 - val_recall_m: 0.5451 - val_precision_m: 0.7370 - val_f1_m: 0.6232\n",
      "Epoch 15/30\n",
      "214/214 [==============================] - 61s 285ms/step - loss: 1.0600 - accuracy: 0.6221 - recall_m: 0.4898 - precision_m: 0.7774 - f1_m: 0.5969 - val_loss: 1.2250 - val_accuracy: 0.5684 - val_recall_m: 0.5007 - val_precision_m: 0.7044 - val_f1_m: 0.5812\n",
      "Epoch 16/30\n",
      "214/214 [==============================] - 62s 289ms/step - loss: 1.0781 - accuracy: 0.6080 - recall_m: 0.4778 - precision_m: 0.7597 - f1_m: 0.5823 - val_loss: 1.2121 - val_accuracy: 0.5404 - val_recall_m: 0.4441 - val_precision_m: 0.6912 - val_f1_m: 0.5358\n",
      "Epoch 17/30\n",
      "214/214 [==============================] - 62s 287ms/step - loss: 1.0373 - accuracy: 0.6235 - recall_m: 0.4874 - precision_m: 0.7775 - f1_m: 0.5946 - val_loss: 1.2611 - val_accuracy: 0.5667 - val_recall_m: 0.4628 - val_precision_m: 0.7073 - val_f1_m: 0.5546\n",
      "Epoch 18/30\n",
      "214/214 [==============================] - 61s 285ms/step - loss: 1.0190 - accuracy: 0.6382 - recall_m: 0.5029 - precision_m: 0.7744 - f1_m: 0.6059 - val_loss: 1.0365 - val_accuracy: 0.6456 - val_recall_m: 0.5372 - val_precision_m: 0.7468 - val_f1_m: 0.6216\n",
      "Epoch 19/30\n",
      "214/214 [==============================] - 61s 283ms/step - loss: 1.0282 - accuracy: 0.6379 - recall_m: 0.5055 - precision_m: 0.7813 - f1_m: 0.6102 - val_loss: 1.1818 - val_accuracy: 0.5789 - val_recall_m: 0.5104 - val_precision_m: 0.6842 - val_f1_m: 0.5803\n",
      "Epoch 20/30\n",
      "214/214 [==============================] - 61s 284ms/step - loss: 0.9920 - accuracy: 0.6472 - recall_m: 0.5193 - precision_m: 0.7882 - f1_m: 0.6224 - val_loss: 1.5400 - val_accuracy: 0.5333 - val_recall_m: 0.4615 - val_precision_m: 0.5859 - val_f1_m: 0.5140\n",
      "Epoch 21/30\n",
      "214/214 [==============================] - 61s 286ms/step - loss: 1.0037 - accuracy: 0.6455 - recall_m: 0.5143 - precision_m: 0.7795 - f1_m: 0.6159 - val_loss: 1.3567 - val_accuracy: 0.5667 - val_recall_m: 0.5125 - val_precision_m: 0.6471 - val_f1_m: 0.5693\n",
      "Epoch 22/30\n",
      "214/214 [==============================] - 61s 287ms/step - loss: 0.9982 - accuracy: 0.6385 - recall_m: 0.5228 - precision_m: 0.7827 - f1_m: 0.6230 - val_loss: 1.0571 - val_accuracy: 0.6228 - val_recall_m: 0.4823 - val_precision_m: 0.7602 - val_f1_m: 0.5802\n",
      "Epoch 23/30\n",
      "214/214 [==============================] - 62s 290ms/step - loss: 0.9783 - accuracy: 0.6534 - recall_m: 0.5321 - precision_m: 0.7895 - f1_m: 0.6317 - val_loss: 1.3832 - val_accuracy: 0.5404 - val_recall_m: 0.4826 - val_precision_m: 0.5767 - val_f1_m: 0.5236\n",
      "Epoch 24/30\n",
      "214/214 [==============================] - 63s 295ms/step - loss: 0.9429 - accuracy: 0.6698 - recall_m: 0.5561 - precision_m: 0.8059 - f1_m: 0.6541 - val_loss: 0.9587 - val_accuracy: 0.6632 - val_recall_m: 0.6000 - val_precision_m: 0.7550 - val_f1_m: 0.6657\n",
      "Epoch 25/30\n",
      "214/214 [==============================] - 61s 287ms/step - loss: 0.9510 - accuracy: 0.6572 - recall_m: 0.5330 - precision_m: 0.7854 - f1_m: 0.6312 - val_loss: 1.3284 - val_accuracy: 0.5737 - val_recall_m: 0.5163 - val_precision_m: 0.6680 - val_f1_m: 0.5805\n",
      "Epoch 26/30\n",
      "214/214 [==============================] - 61s 284ms/step - loss: 0.9571 - accuracy: 0.6566 - recall_m: 0.5394 - precision_m: 0.7810 - f1_m: 0.6347 - val_loss: 1.1447 - val_accuracy: 0.6018 - val_recall_m: 0.5205 - val_precision_m: 0.7031 - val_f1_m: 0.5957\n",
      "Epoch 27/30\n",
      "214/214 [==============================] - 62s 288ms/step - loss: 0.9344 - accuracy: 0.6701 - recall_m: 0.5494 - precision_m: 0.7945 - f1_m: 0.6457 - val_loss: 1.4242 - val_accuracy: 0.5140 - val_recall_m: 0.4639 - val_precision_m: 0.5528 - val_f1_m: 0.5032\n",
      "Epoch 28/30\n",
      "214/214 [==============================] - 61s 285ms/step - loss: 0.9344 - accuracy: 0.6718 - recall_m: 0.5555 - precision_m: 0.7964 - f1_m: 0.6507 - val_loss: 1.2459 - val_accuracy: 0.5982 - val_recall_m: 0.5528 - val_precision_m: 0.6924 - val_f1_m: 0.6125\n",
      "Epoch 29/30\n",
      "214/214 [==============================] - 62s 292ms/step - loss: 0.9210 - accuracy: 0.6707 - recall_m: 0.5540 - precision_m: 0.7967 - f1_m: 0.6495 - val_loss: 1.2294 - val_accuracy: 0.6105 - val_recall_m: 0.5226 - val_precision_m: 0.7188 - val_f1_m: 0.6020\n",
      "Epoch 30/30\n",
      "214/214 [==============================] - 63s 296ms/step - loss: 0.9178 - accuracy: 0.6669 - recall_m: 0.5710 - precision_m: 0.8062 - f1_m: 0.6655 - val_loss: 1.0561 - val_accuracy: 0.6649 - val_recall_m: 0.5802 - val_precision_m: 0.7696 - val_f1_m: 0.6583\n",
      "resnet50 training time =  44.23175775210063\n"
     ]
    }
   ],
   "source": [
    "model3 = vgg_variant.TLModel(224)\n",
    "model3.build(categories,ResNet50)\n",
    "model3.compile(\n",
    "    loss = 'categorical_crossentropy',\n",
    "    optimizer = 'adam'\n",
    ")\n",
    "\n",
    "# computing the training time for resnet \n",
    "begin = time.time() \n",
    "history3 = model3.fit(30,train_data, test_data)\n",
    "end = time.time()\n",
    "resnet50_history = pd.DataFrame(history3.history)\n",
    "resnet50_history.to_csv('history/resnet50_history.csv')\n",
    "\n",
    "resnet_time = (end-begin)/60 \n",
    "print('resnet50 training time = ', resnet_time)"
   ]
  },
  {
   "cell_type": "code",
   "execution_count": null,
   "id": "Z_ifcsrnxCkQ",
   "metadata": {
    "colab": {
     "base_uri": "https://localhost:8080/",
     "height": 308
    },
    "executionInfo": {
     "elapsed": 1310,
     "status": "ok",
     "timestamp": 1635052271328,
     "user": {
      "displayName": "Thomaskutty Reji",
      "photoUrl": "https://lh3.googleusercontent.com/a-/AOh14Gjp0q-3uNfPlCqQ-vEOj3WrnqPgrCdGAvEOc-2Ecg=s64",
      "userId": "02143323878923298672"
     },
     "user_tz": -330
    },
    "id": "Z_ifcsrnxCkQ",
    "outputId": "fdf165f9-7321-4c5f-f8de-f374c11f5351"
   },
   "outputs": [
    {
     "data": {
      "image/png": "[encoded data removed]",
      "text/plain": [
       "<Figure size 864x288 with 2 Axes>"
      ]
     },
     "metadata": {
      "needs_background": "light"
     },
     "output_type": "display_data"
    }
   ],
   "source": [
    "# plotting the performance \n",
    "model3.plot_performance(history3)"
   ]
  },
  {
   "cell_type": "markdown",
   "id": "NuXSJlEzS0c5",
   "metadata": {
    "id": "NuXSJlEzS0c5"
   },
   "source": [
    "### VGG19 + SVM"
   ]
  },
  {
   "cell_type": "code",
   "execution_count": 12,
   "id": "O8grmPSq0XIY",
   "metadata": {
    "colab": {
     "base_uri": "https://localhost:8080/"
    },
    "executionInfo": {
     "elapsed": 848548,
     "status": "ok",
     "timestamp": 1635063846812,
     "user": {
      "displayName": "THOMASKUTTY REJI 20122011",
      "photoUrl": "https://lh3.googleusercontent.com/a-/AOh14GjHoJ9wh0wfyxXOdLGziUSTBqhWk7QGa2FLl8mM=s64",
      "userId": "10621011967258360673"
     },
     "user_tz": -330
    },
    "id": "O8grmPSq0XIY",
    "outputId": "48100370-aad2-4646-e66a-ceb1f988cf81"
   },
   "outputs": [
    {
     "name": "stderr",
     "output_type": "stream",
     "text": [
      "WARNING:Models.svm_hybrid:Creating model.log file in log directory\n",
      "WARNING:Models.svm_hybrid:Creating model.log file in log directory\n",
      "WARNING:Models.svm_hybrid:Creating model.log file in log directory\n",
      "WARNING:Models.svm_hybrid:Building the model\n",
      "WARNING:Models.svm_hybrid:Building the model\n",
      "WARNING:Models.svm_hybrid:Building the model\n",
      "WARNING:Models.svm_hybrid:Compiling Model\n",
      "WARNING:Models.svm_hybrid:Compiling Model\n",
      "WARNING:Models.svm_hybrid:Compiling Model\n",
      "WARNING:Models.svm_hybrid:Building the model\n",
      "WARNING:Models.svm_hybrid:Building the model\n",
      "WARNING:Models.svm_hybrid:Building the model\n",
      "WARNING:Models.svm_hybrid:Compiling Model\n",
      "WARNING:Models.svm_hybrid:Compiling Model\n",
      "WARNING:Models.svm_hybrid:Compiling Model\n",
      "/usr/local/lib/python3.7/dist-packages/keras/engine/training.py:1972: UserWarning: `Model.fit_generator` is deprecated and will be removed in a future version. Please use `Model.fit`, which supports generators.\n",
      "  warnings.warn('`Model.fit_generator` is deprecated and '\n"
     ]
    },
    {
     "name": "stdout",
     "output_type": "stream",
     "text": [
      "Epoch 1/13\n",
      "214/214 [==============================] - 68s 313ms/step - loss: 1.0569 - accuracy: 0.6988 - recall_m: 0.6084 - precision_m: 0.7796 - f1_m: 0.6752 - val_loss: 0.6035 - val_accuracy: 0.8281 - val_recall_m: 0.7472 - val_precision_m: 0.9035 - val_f1_m: 0.8158\n",
      "Epoch 2/13\n",
      "214/214 [==============================] - 64s 300ms/step - loss: 0.6673 - accuracy: 0.7963 - recall_m: 0.7404 - precision_m: 0.8532 - f1_m: 0.7905 - val_loss: 0.5248 - val_accuracy: 0.8123 - val_recall_m: 0.7844 - val_precision_m: 0.8669 - val_f1_m: 0.8226\n",
      "Epoch 3/13\n",
      "214/214 [==============================] - 65s 302ms/step - loss: 0.5759 - accuracy: 0.8191 - recall_m: 0.7757 - precision_m: 0.8669 - f1_m: 0.8169 - val_loss: 0.5697 - val_accuracy: 0.8053 - val_recall_m: 0.7774 - val_precision_m: 0.8365 - val_f1_m: 0.8052\n",
      "Epoch 4/13\n",
      "214/214 [==============================] - 65s 302ms/step - loss: 0.4883 - accuracy: 0.8501 - recall_m: 0.8113 - precision_m: 0.8870 - f1_m: 0.8464 - val_loss: 0.5475 - val_accuracy: 0.8263 - val_recall_m: 0.8003 - val_precision_m: 0.8630 - val_f1_m: 0.8298\n",
      "Epoch 5/13\n",
      "214/214 [==============================] - 65s 304ms/step - loss: 0.4587 - accuracy: 0.8530 - recall_m: 0.8207 - precision_m: 0.8924 - f1_m: 0.8537 - val_loss: 0.5841 - val_accuracy: 0.8105 - val_recall_m: 0.7667 - val_precision_m: 0.8706 - val_f1_m: 0.8136\n",
      "Epoch 6/13\n",
      "214/214 [==============================] - 65s 304ms/step - loss: 0.4281 - accuracy: 0.8609 - recall_m: 0.8303 - precision_m: 0.8940 - f1_m: 0.8601 - val_loss: 0.5731 - val_accuracy: 0.8263 - val_recall_m: 0.7896 - val_precision_m: 0.8442 - val_f1_m: 0.8155\n",
      "Epoch 7/13\n",
      "214/214 [==============================] - 65s 304ms/step - loss: 0.3622 - accuracy: 0.8852 - recall_m: 0.8610 - precision_m: 0.9119 - f1_m: 0.8848 - val_loss: 0.6236 - val_accuracy: 0.8035 - val_recall_m: 0.7851 - val_precision_m: 0.8229 - val_f1_m: 0.8030\n",
      "Epoch 8/13\n",
      "214/214 [==============================] - 65s 304ms/step - loss: 0.3523 - accuracy: 0.8811 - recall_m: 0.8581 - precision_m: 0.9079 - f1_m: 0.8814 - val_loss: 0.4987 - val_accuracy: 0.8456 - val_recall_m: 0.8281 - val_precision_m: 0.8674 - val_f1_m: 0.8467\n",
      "Epoch 9/13\n",
      "214/214 [==============================] - 65s 303ms/step - loss: 0.3495 - accuracy: 0.8879 - recall_m: 0.8624 - precision_m: 0.9114 - f1_m: 0.8856 - val_loss: 0.5331 - val_accuracy: 0.8368 - val_recall_m: 0.8149 - val_precision_m: 0.8693 - val_f1_m: 0.8404\n",
      "Epoch 10/13\n",
      "214/214 [==============================] - 65s 301ms/step - loss: 0.2991 - accuracy: 0.9084 - recall_m: 0.8864 - precision_m: 0.9274 - f1_m: 0.9058 - val_loss: 0.5198 - val_accuracy: 0.8404 - val_recall_m: 0.8139 - val_precision_m: 0.8695 - val_f1_m: 0.8402\n",
      "Epoch 11/13\n",
      "214/214 [==============================] - 65s 301ms/step - loss: 0.3060 - accuracy: 0.9016 - recall_m: 0.8814 - precision_m: 0.9238 - f1_m: 0.9015 - val_loss: 0.5189 - val_accuracy: 0.8386 - val_recall_m: 0.8226 - val_precision_m: 0.8629 - val_f1_m: 0.8415\n",
      "Epoch 12/13\n",
      "214/214 [==============================] - 65s 302ms/step - loss: 0.2673 - accuracy: 0.9142 - recall_m: 0.9016 - precision_m: 0.9343 - f1_m: 0.9171 - val_loss: 0.5086 - val_accuracy: 0.8491 - val_recall_m: 0.8330 - val_precision_m: 0.8780 - val_f1_m: 0.8539\n",
      "Epoch 13/13\n",
      "214/214 [==============================] - 65s 303ms/step - loss: 0.2743 - accuracy: 0.9131 - recall_m: 0.8957 - precision_m: 0.9320 - f1_m: 0.9129 - val_loss: 0.6128 - val_accuracy: 0.8298 - val_recall_m: 0.8111 - val_precision_m: 0.8447 - val_f1_m: 0.8271\n",
      "training time for vgg19+svm =  14.111755967140198\n"
     ]
    }
   ],
   "source": [
    "cnn_svm = svm_hybrid.TLModel(224) \n",
    "cnn_svm.build(categories, VGG19) \n",
    "cnn_svm.compile()\n",
    "cnn_svm.build(categories,VGG19)\n",
    "cnn_svm.compile(\n",
    "    loss = 'categorical_crossentropy',\n",
    "    optimizer = 'adam'\n",
    ")\n",
    "\n",
    "train_data = loader.training_set \n",
    "test_data = loader.test_set\n",
    "# computing the training time for resnet \n",
    "begin = time.time() \n",
    "history4 = cnn_svm.fit(13,train_data, test_data)\n",
    "end = time.time()\n",
    "# saving the history \n",
    "vgg19_svm_history = pd.DataFrame(history4.history)\n",
    "vgg19_svm_history.to_csv('history/vgg19_svm_history.csv')\n",
    "\n",
    "vgg19_svm_time = (end-begin)/60 \n",
    "print('training time for vgg19+svm = ',vgg19_svm_time)"
   ]
  },
  {
   "cell_type": "code",
   "execution_count": 11,
   "id": "6NnxoHyfPLAR",
   "metadata": {
    "colab": {
     "base_uri": "https://localhost:8080/",
     "height": 308
    },
    "executionInfo": {
     "elapsed": 1246,
     "status": "ok",
     "timestamp": 1635062682374,
     "user": {
      "displayName": "THOMASKUTTY REJI 20122011",
      "photoUrl": "https://lh3.googleusercontent.com/a-/AOh14GjHoJ9wh0wfyxXOdLGziUSTBqhWk7QGa2FLl8mM=s64",
      "userId": "10621011967258360673"
     },
     "user_tz": -330
    },
    "id": "6NnxoHyfPLAR",
    "outputId": "0a04f7eb-3371-4098-e118-cdb59a203ee5"
   },
   "outputs": [
    {
     "data": {
      "image/png": "[encoded data removed]",
      "text/plain": [
       "<Figure size 864x288 with 2 Axes>"
      ]
     },
     "metadata": {
      "needs_background": "light"
     },
     "output_type": "display_data"
    }
   ],
   "source": [
    "# plotting the performance \n",
    "cnn_svm.plot_performance(history4)"
   ]
  },
  {
   "cell_type": "markdown",
   "id": "ocrjyIj615Ya",
   "metadata": {
    "id": "ocrjyIj615Ya"
   },
   "source": [
    "---\n"
   ]
  },
  {
   "cell_type": "markdown",
   "id": "QGBV_4Vk1iJM",
   "metadata": {
    "id": "QGBV_4Vk1iJM"
   },
   "source": [
    "## **Conclusion**"
   ]
  },
  {
   "cell_type": "markdown",
   "id": "j83jSDuB10lc",
   "metadata": {
    "id": "j83jSDuB10lc"
   },
   "source": []
  },
  {
   "cell_type": "code",
   "execution_count": null,
   "id": "1kLjQw8S1l1i",
   "metadata": {
    "id": "1kLjQw8S1l1i"
   },
   "outputs": [],
   "source": []
  }
 ],
 "metadata": {
  "accelerator": "GPU",
  "colab": {
   "collapsed_sections": [
    "6bBlg0rER6E3",
    "wQHEgQbQm0BJ",
    "RIuh9bycrfJX"
   ],
   "name": "main.ipynb",
   "provenance": []
  },
  "interpreter": {
   "hash": "380030d1298d5a27518acca789ff38fe82bbf2e68b73263de6a6bf23efb7704c"
  },
  "kernelspec": {
   "display_name": "Python 3",
   "language": "python",
   "name": "python3"
  },
  "language_info": {
   "codemirror_mode": {
    "name": "ipython",
    "version": 3
   },
   "file_extension": ".py",
   "mimetype": "text/x-python",
   "name": "python",
   "nbconvert_exporter": "python",
   "pygments_lexer": "ipython3",
   "version": "3.8.8"
  }
 },
 "nbformat": 4,
 "nbformat_minor": 5
}

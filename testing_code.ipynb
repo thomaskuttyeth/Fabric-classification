{
 "cells": [
  {
   "cell_type": "code",
   "execution_count": 1,
   "id": "6aca6e6e",
   "metadata": {},
   "outputs": [],
   "source": [
    "from augmentation import ImageAugmentation\n",
    "from dataloader import Dataloader"
   ]
  },
  {
   "cell_type": "code",
   "execution_count": 2,
   "id": "18ef9e6b",
   "metadata": {},
   "outputs": [],
   "source": [
    "main_loader = Dataloader()"
   ]
  },
  {
   "cell_type": "code",
   "execution_count": 3,
   "id": "93b97b84-727a-4bb9-8340-b79d8c472488",
   "metadata": {},
   "outputs": [
    {
     "name": "stdout",
     "output_type": "stream",
     "text": [
      "Found a test folder in the Images directory\n",
      "Not moving any images from train to test\n"
     ]
    }
   ],
   "source": [
    "main_loader.make_test(0.15)"
   ]
  },
  {
   "cell_type": "code",
   "execution_count": 25,
   "id": "136ca1c6-af2e-4cb3-aa1a-f8e4396bcd47",
   "metadata": {},
   "outputs": [],
   "source": [
    "categories = list(main_loader.get_counts()[0].keys())"
   ]
  },
  {
   "cell_type": "code",
   "execution_count": 17,
   "id": "665c2177-e6be-4e3e-a935-2606f03bb170",
   "metadata": {},
   "outputs": [],
   "source": [
    "# augmentor = ImageAugmentation()\n",
    "# augmentor.generate_images(2) "
   ]
  },
  {
   "cell_type": "code",
   "execution_count": 16,
   "id": "a2a27828",
   "metadata": {},
   "outputs": [
    {
     "name": "stdout",
     "output_type": "stream",
     "text": [
      "execution_time =  382.24158334732056\n"
     ]
    }
   ],
   "source": [
    "import time \n",
    "start_time = time.time() \n",
    "\n",
    "main_loader.load_('Images/train',224) \n",
    "train_data,train_labels = main_loader.train_data,main_loader.train_labels \n",
    "main_loader.load_('augmented_images',224)\n",
    "aug_data, aug_labels = main_loader.augmented_data, main_loader.augmented_labels\n",
    "main_loader.load_('Images/test',224)\n",
    "test_data, test_labels = main_loader.test_data, main_loader.test_labels\n",
    "final_train = train_data +aug_data \n",
    "final_labels = train_labels + aug_labels\n",
    "\n",
    "print('execution_time = ', time.time() - start_time) "
   ]
  },
  {
   "cell_type": "code",
   "execution_count": 8,
   "id": "cd4e969b-c04b-4d61-b9ed-a9cf2d261db2",
   "metadata": {},
   "outputs": [],
   "source": []
  },
  {
   "cell_type": "code",
   "execution_count": 18,
   "id": "9b7384f6-a334-4c83-a621-61f24871c92f",
   "metadata": {},
   "outputs": [],
   "source": [
    "# modelling \n",
    "from model import TLModel "
   ]
  },
  {
   "cell_type": "code",
   "execution_count": 19,
   "id": "23b90bee-ccb0-4ac0-a56a-006042d4f58f",
   "metadata": {},
   "outputs": [],
   "source": [
    "vgg16_model = TLModel(224)"
   ]
  },
  {
   "cell_type": "code",
   "execution_count": 26,
   "id": "fa51beed-c3a7-4bee-be3e-6339fa8cbfc2",
   "metadata": {},
   "outputs": [
    {
     "name": "stderr",
     "output_type": "stream",
     "text": [
      "WARNING:model:done with model building\n",
      "WARNING:model:done with model building\n"
     ]
    }
   ],
   "source": [
    "vgg16_model.build(categories)"
   ]
  },
  {
   "cell_type": "code",
   "execution_count": 27,
   "id": "aa7a3b87-af1e-4136-b85f-57f8418de1cb",
   "metadata": {},
   "outputs": [
    {
     "name": "stdout",
     "output_type": "stream",
     "text": [
      "Model: \"model\"\n",
      "_________________________________________________________________\n",
      "Layer (type)                 Output Shape              Param #   \n",
      "=================================================================\n",
      "input_1 (InputLayer)         [(None, 224, 224, 3)]     0         \n",
      "_________________________________________________________________\n",
      "block1_conv1 (Conv2D)        (None, 224, 224, 64)      1792      \n",
      "_________________________________________________________________\n",
      "block1_conv2 (Conv2D)        (None, 224, 224, 64)      36928     \n",
      "_________________________________________________________________\n",
      "block1_pool (MaxPooling2D)   (None, 112, 112, 64)      0         \n",
      "_________________________________________________________________\n",
      "block2_conv1 (Conv2D)        (None, 112, 112, 128)     73856     \n",
      "_________________________________________________________________\n",
      "block2_conv2 (Conv2D)        (None, 112, 112, 128)     147584    \n",
      "_________________________________________________________________\n",
      "block2_pool (MaxPooling2D)   (None, 56, 56, 128)       0         \n",
      "_________________________________________________________________\n",
      "block3_conv1 (Conv2D)        (None, 56, 56, 256)       295168    \n",
      "_________________________________________________________________\n",
      "block3_conv2 (Conv2D)        (None, 56, 56, 256)       590080    \n",
      "_________________________________________________________________\n",
      "block3_conv3 (Conv2D)        (None, 56, 56, 256)       590080    \n",
      "_________________________________________________________________\n",
      "block3_pool (MaxPooling2D)   (None, 28, 28, 256)       0         \n",
      "_________________________________________________________________\n",
      "block4_conv1 (Conv2D)        (None, 28, 28, 512)       1180160   \n",
      "_________________________________________________________________\n",
      "block4_conv2 (Conv2D)        (None, 28, 28, 512)       2359808   \n",
      "_________________________________________________________________\n",
      "block4_conv3 (Conv2D)        (None, 28, 28, 512)       2359808   \n",
      "_________________________________________________________________\n",
      "block4_pool (MaxPooling2D)   (None, 14, 14, 512)       0         \n",
      "_________________________________________________________________\n",
      "block5_conv1 (Conv2D)        (None, 14, 14, 512)       2359808   \n",
      "_________________________________________________________________\n",
      "block5_conv2 (Conv2D)        (None, 14, 14, 512)       2359808   \n",
      "_________________________________________________________________\n",
      "block5_conv3 (Conv2D)        (None, 14, 14, 512)       2359808   \n",
      "_________________________________________________________________\n",
      "block5_pool (MaxPooling2D)   (None, 7, 7, 512)         0         \n",
      "_________________________________________________________________\n",
      "flatten (Flatten)            (None, 25088)             0         \n",
      "_________________________________________________________________\n",
      "dense (Dense)                (None, 7)                 175623    \n",
      "=================================================================\n",
      "Total params: 14,890,311\n",
      "Trainable params: 175,623\n",
      "Non-trainable params: 14,714,688\n",
      "_________________________________________________________________\n"
     ]
    }
   ],
   "source": [
    "vgg16_model.summary()"
   ]
  },
  {
   "cell_type": "code",
   "execution_count": 28,
   "id": "6a21329d-33fb-4aef-877d-b58c57230cba",
   "metadata": {},
   "outputs": [
    {
     "name": "stderr",
     "output_type": "stream",
     "text": [
      "WARNING:model:model compiled\n",
      "WARNING:model:model compiled\n"
     ]
    }
   ],
   "source": [
    "vgg16_model.compile(\n",
    "    loss = 'categorical_crossentropy',\n",
    "    optimizer = 'adam', \n",
    "    metrics = ['accuracy'])"
   ]
  },
  {
   "cell_type": "code",
   "execution_count": null,
   "id": "a6c88de7-e96a-4170-8650-3977a0516706",
   "metadata": {},
   "outputs": [],
   "source": [
    "vgg16_model.fit(\n",
    "    dataset = train_data, \n",
    "    labels = train_labels, \n",
    "    batch_size = 13,\n",
    "    epochs = 2)"
   ]
  },
  {
   "cell_type": "code",
   "execution_count": null,
   "id": "4d90ce10-9d30-485f-bb45-0da87ebac9cc",
   "metadata": {},
   "outputs": [],
   "source": []
  }
 ],
 "metadata": {
  "interpreter": {
   "hash": "380030d1298d5a27518acca789ff38fe82bbf2e68b73263de6a6bf23efb7704c"
  },
  "kernelspec": {
   "display_name": "Python 3",
   "language": "python",
   "name": "python3"
  },
  "language_info": {
   "codemirror_mode": {
    "name": "ipython",
    "version": 3
   },
   "file_extension": ".py",
   "mimetype": "text/x-python",
   "name": "python",
   "nbconvert_exporter": "python",
   "pygments_lexer": "ipython3",
   "version": "3.8.8"
  }
 },
 "nbformat": 4,
 "nbformat_minor": 5
}
